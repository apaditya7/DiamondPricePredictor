{
 "cells": [
  {
   "cell_type": "code",
   "execution_count": null,
   "metadata": {},
   "outputs": [],
   "source": [
    "import pandas as _hex_pandas\n",
    "import datetime as _hex_datetime\n",
    "import json as _hex_json"
   ]
  },
  {
   "cell_type": "code",
   "execution_count": null,
   "metadata": {},
   "outputs": [],
   "source": [
    "hex_scheduled = _hex_json.loads(\"false\")"
   ]
  },
  {
   "cell_type": "code",
   "execution_count": null,
   "metadata": {},
   "outputs": [],
   "source": [
    "hex_user_email = _hex_json.loads(\"\\\"example-user@example.com\\\"\")"
   ]
  },
  {
   "cell_type": "code",
   "execution_count": null,
   "metadata": {},
   "outputs": [],
   "source": [
    "hex_run_context = _hex_json.loads(\"\\\"logic\\\"\")"
   ]
  },
  {
   "cell_type": "code",
   "execution_count": null,
   "metadata": {},
   "outputs": [],
   "source": [
    "hex_timezone = _hex_json.loads(\"\\\"Asia/Dubai\\\"\")"
   ]
  },
  {
   "cell_type": "code",
   "execution_count": null,
   "metadata": {},
   "outputs": [],
   "source": [
    "hex_project_id = _hex_json.loads(\"\\\"1f4e03b9-3e36-41f9-bd87-7c279ad7c462\\\"\")"
   ]
  },
  {
   "cell_type": "code",
   "execution_count": null,
   "metadata": {},
   "outputs": [],
   "source": [
    "hex_project_name = _hex_json.loads(\"\\\"COURSERA GP: Snowflake for Data Science: Intro to Snowpark ML for Python_learner Guide_Final\\\"\")"
   ]
  },
  {
   "cell_type": "code",
   "execution_count": null,
   "metadata": {},
   "outputs": [],
   "source": [
    "hex_status = _hex_json.loads(\"\\\"\\\"\")"
   ]
  },
  {
   "cell_type": "code",
   "execution_count": null,
   "metadata": {},
   "outputs": [],
   "source": [
    "hex_categories = _hex_json.loads(\"[]\")"
   ]
  },
  {
   "cell_type": "code",
   "execution_count": null,
   "metadata": {},
   "outputs": [],
   "source": [
    "hex_color_palette = _hex_json.loads(\"[\\\"#4C78A8\\\",\\\"#F58518\\\",\\\"#E45756\\\",\\\"#72B7B2\\\",\\\"#54A24B\\\",\\\"#EECA3B\\\",\\\"#B279A2\\\",\\\"#FF9DA6\\\",\\\"#9D755D\\\",\\\"#BAB0AC\\\"]\")"
   ]
  },
  {
   "cell_type": "code",
   "execution_count": null,
   "metadata": {},
   "outputs": [],
   "source": [
    "\n",
    "from snowflake.snowpark.version import VERSION\n",
    "import snowflake.snowpark.functions as F\n",
    "from snowflake.snowpark.types import DecimalType\n",
    "\n",
    "\n",
    "import snowflake.ml.modeling.preprocessing as snowml\n",
    "from snowflake.ml.modeling.pipeline import Pipeline\n",
    "\n",
    "\n",
    "import numpy as np\n",
    "import pandas as pd\n",
    "\n",
    "\n",
    "import joblib\n",
    "\n",
    "\n",
    "import warnings; warnings.simplefilter('ignore')"
   ]
  },
  {
   "cell_type": "code",
   "execution_count": null,
   "metadata": {},
   "outputs": [],
   "source": [
    "import hextoolkit\n",
    "hex_snowflake_conn = hextoolkit.get_data_connection('Diamond_Connection')\n",
    "session = hex_snowflake_conn.get_snowpark_session()"
   ]
  },
  {
   "cell_type": "code",
   "execution_count": null,
   "metadata": {},
   "outputs": [
    {
     "data": {
      "text/plain": [
       "User                        : ADITYAAP56\n",
       "Role                        : \"ACCOUNTADMIN\"\n",
       "Database                    : \"DIAMONDS\"\n",
       "Schema                      : \"PUBLIC\"\n",
       "Warehouse                   : \"PC_HEX_WH\"\n",
       "Snowflake version           : 8.27.0\n",
       "Snowpark for Python version : 1.19.0\n"
      ]
     },
     "execution_count": null,
     "metadata": {},
     "output_type": "execute_result"
    }
   ],
   "source": [
    "# Verify connectivity to Snowflake\n",
    "snowflake_environment = session.sql('SELECT current_user(), current_version()').collect()\n",
    "snowpark_version = VERSION\n",
    "\n",
    "# Current Environment Details\n",
    "print('User                        : {}'.format(snowflake_environment[0][0]))\n",
    "print('Role                        : {}'.format(session.get_current_role()))\n",
    "print('Database                    : {}'.format(session.get_current_database()))\n",
    "print('Schema                      : {}'.format(session.get_current_schema()))\n",
    "print('Warehouse                   : {}'.format(session.get_current_warehouse()))\n",
    "print('Snowflake version           : {}'.format(snowflake_environment[0][1]))\n",
    "print('Snowpark for Python version : {}.{}.{}'.format(snowpark_version[0],snowpark_version[1],snowpark_version[2]))"
   ]
  },
  {
   "cell_type": "code",
   "execution_count": null,
   "metadata": {},
   "outputs": [],
   "source": [
    "\n",
    "DIAMONDS_TABLE = 'diamond'\n",
    "input_tbl = f\"{session.get_current_database()}.{session.get_current_schema()}.{DIAMONDS_TABLE}\""
   ]
  },
  {
   "cell_type": "code",
   "execution_count": null,
   "metadata": {},
   "outputs": [
    {
     "data": {
      "text/plain": [
       "----------------------------------------------------------------------------------------------------\n",
       "|\"CARAT\"  |\"COLOR\"  |\"CLARITY\"  |\"TABLE_PCT\"  |\"PRICE\"  |\"X\"   |\"Y\"   |\"Z\"   |\"CUT\"      |\"DEPTH\"  |\n",
       "----------------------------------------------------------------------------------------------------\n",
       "|0.23     |E        |SI2        |55.0         |326      |3.95  |3.98  |2.43  |IDEAL      |61.5     |\n",
       "|0.21     |E        |SI1        |61.0         |326      |3.89  |3.84  |2.31  |PREMIUM    |59.8     |\n",
       "|0.23     |E        |VS1        |65.0         |327      |4.05  |4.07  |2.31  |GOOD       |56.9     |\n",
       "|0.29     |I        |VS2        |58.0         |334      |4.20  |4.23  |2.63  |PREMIUM    |62.4     |\n",
       "|0.31     |J        |SI2        |58.0         |335      |4.34  |4.35  |2.75  |GOOD       |63.3     |\n",
       "|0.24     |J        |VVS2       |57.0         |336      |3.94  |3.96  |2.48  |VERY_GOOD  |62.8     |\n",
       "|0.24     |I        |VVS1       |57.0         |336      |3.95  |3.98  |2.47  |VERY_GOOD  |62.3     |\n",
       "|0.26     |H        |SI1        |55.0         |337      |4.07  |4.11  |2.53  |VERY_GOOD  |61.9     |\n",
       "|0.22     |E        |VS2        |61.0         |337      |3.87  |3.78  |2.49  |FAIR       |65.1     |\n",
       "|0.23     |H        |VS1        |61.0         |338      |4.00  |4.05  |2.39  |VERY_GOOD  |59.4     |\n",
       "----------------------------------------------------------------------------------------------------\n",
       "\n"
      ]
     },
     "execution_count": null,
     "metadata": {},
     "output_type": "execute_result"
    },
    {
     "data": {
      "text/plain": [
       "<snowflake.snowpark.dataframe.DataFrame at 0x7fcf4bfed3a0>"
      ]
     },
     "execution_count": null,
     "metadata": {},
     "output_type": "execute_result"
    }
   ],
   "source": [
    "\n",
    "diamonds_df = session.table(input_tbl)\n",
    "\n",
    "\n",
    "diamonds_df.show()\n",
    "\n",
    "\n",
    "\n",
    "diamonds_df.describe()"
   ]
  },
  {
   "cell_type": "code",
   "execution_count": null,
   "metadata": {},
   "outputs": [
    {
     "data": {
      "text/plain": [
       "<class 'pandas.core.frame.DataFrame'>\n",
       "RangeIndex: 53920 entries, 0 to 53919\n",
       "Data columns (total 10 columns):\n",
       " #   Column     Non-Null Count  Dtype  \n",
       "---  ------     --------------  -----  \n",
       " 0   CARAT      53920 non-null  float64\n",
       " 1   COLOR      53920 non-null  object \n",
       " 2   CLARITY    53920 non-null  object \n",
       " 3   TABLE_PCT  53920 non-null  float64\n",
       " 4   PRICE      53920 non-null  int16  \n",
       " 5   X          53920 non-null  float64\n",
       " 6   Y          53920 non-null  float64\n",
       " 7   Z          53920 non-null  float64\n",
       " 8   CUT        53920 non-null  object \n",
       " 9   DEPTH      53920 non-null  float64\n",
       "dtypes: float64(6), int16(1), object(3)\n",
       "memory usage: 3.8+ MB\n"
      ]
     },
     "execution_count": null,
     "metadata": {},
     "output_type": "execute_result"
    }
   ],
   "source": [
    "\n",
    "diamonds_df.to_pandas().info()"
   ]
  },
  {
   "cell_type": "code",
   "execution_count": null,
   "metadata": {},
   "outputs": [
    {
     "data": {
      "text/plain": [
       "   _COLUMN_NAME  _CATEGORY  _INDEX\n",
       "0           CUT      IDEAL       0\n",
       "1           CUT    PREMIUM       1\n",
       "2           CUT  VERY_GOOD       2\n",
       "3           CUT       GOOD       3\n",
       "4           CUT       FAIR       4\n",
       "5       CLARITY         IF       0\n",
       "6       CLARITY       VVS1       1\n",
       "7       CLARITY       VVS2       2\n",
       "8       CLARITY        VS1       3\n",
       "9       CLARITY        VS2       4\n",
       "10      CLARITY        SI1       5\n",
       "11      CLARITY        SI2       6\n",
       "12      CLARITY         I1       7\n",
       "13      CLARITY         I2       8\n",
       "14      CLARITY         I3       9\n",
       "15        COLOR          D       0\n",
       "16        COLOR          E       1\n",
       "17        COLOR          F       2\n",
       "18        COLOR          G       3\n",
       "19        COLOR          H       4\n",
       "20        COLOR          I       5\n",
       "21        COLOR          J       6\n"
      ]
     },
     "execution_count": null,
     "metadata": {},
     "output_type": "execute_result"
    }
   ],
   "source": [
    "import snowflake.ml.modeling.preprocessing as snowml\n",
    "\n",
    "categories = {\n",
    "    \"CUT\": np.array([\"IDEAL\", \"PREMIUM\", \"VERY_GOOD\", \"GOOD\", \"FAIR\"]),\n",
    "    \"CLARITY\": np.array([\"IF\", \"VVS1\", \"VVS2\", \"VS1\", \"VS2\", \"SI1\", \"SI2\", \"I1\", \"I2\", \"I3\"]),\n",
    "    \"COLOR\": np.array(['D', 'E', 'F', 'G', 'H', 'I', 'J']),\n",
    "}\n",
    "snowml_oe = snowml.OrdinalEncoder(input_cols=[\"CUT\", \"CLARITY\", \"COLOR\"], \n",
    "                                    output_cols=[\"CUT_OE\", \"CLARITY_OE\",\"COLOR_OE\"], \n",
    "                                    categories=categories\n",
    "                                )\n",
    "\n",
    "ord_encoded_diamonds_df = snowml_oe.fit(diamonds_df).transform(diamonds_df)\n",
    "\n",
    "print(snowml_oe._state_pandas)"
   ]
  },
  {
   "cell_type": "code",
   "execution_count": null,
   "metadata": {},
   "outputs": [
    {
     "data": {
      "text/plain": [
       "-------------------------------------------------------------------------------------------------------------------------------------------\n",
       "|\"CUT_OE\"  |\"CLARITY_OE\"  |\"COLOR_OE\"  |\"CARAT\"  |\"COLOR\"  |\"CLARITY\"  |\"TABLE_PCT\"  |\"PRICE\"  |\"X\"   |\"Y\"   |\"Z\"   |\"CUT\"      |\"DEPTH\"  |\n",
       "-------------------------------------------------------------------------------------------------------------------------------------------\n",
       "|0.0       |6.0           |1.0         |0.23     |E        |SI2        |55.0         |326      |3.95  |3.98  |2.43  |IDEAL      |61.5     |\n",
       "|1.0       |5.0           |1.0         |0.21     |E        |SI1        |61.0         |326      |3.89  |3.84  |2.31  |PREMIUM    |59.8     |\n",
       "|3.0       |3.0           |1.0         |0.23     |E        |VS1        |65.0         |327      |4.05  |4.07  |2.31  |GOOD       |56.9     |\n",
       "|1.0       |4.0           |5.0         |0.29     |I        |VS2        |58.0         |334      |4.20  |4.23  |2.63  |PREMIUM    |62.4     |\n",
       "|3.0       |6.0           |6.0         |0.31     |J        |SI2        |58.0         |335      |4.34  |4.35  |2.75  |GOOD       |63.3     |\n",
       "|2.0       |2.0           |6.0         |0.24     |J        |VVS2       |57.0         |336      |3.94  |3.96  |2.48  |VERY_GOOD  |62.8     |\n",
       "|2.0       |1.0           |5.0         |0.24     |I        |VVS1       |57.0         |336      |3.95  |3.98  |2.47  |VERY_GOOD  |62.3     |\n",
       "|2.0       |5.0           |4.0         |0.26     |H        |SI1        |55.0         |337      |4.07  |4.11  |2.53  |VERY_GOOD  |61.9     |\n",
       "|4.0       |4.0           |1.0         |0.22     |E        |VS2        |61.0         |337      |3.87  |3.78  |2.49  |FAIR       |65.1     |\n",
       "|2.0       |3.0           |4.0         |0.23     |H        |VS1        |61.0         |338      |4.00  |4.05  |2.39  |VERY_GOOD  |59.4     |\n",
       "-------------------------------------------------------------------------------------------------------------------------------------------\n",
       "\n"
      ]
     },
     "execution_count": null,
     "metadata": {},
     "output_type": "execute_result"
    }
   ],
   "source": [
    "\n",
    "ord_encoded_diamonds_df.show()"
   ]
  },
  {
   "cell_type": "markdown",
   "metadata": {},
   "source": [
    "SNOWPARK ML Modeling preprocessing [Documentation](https://docs.snowflake.com/developer-guide/snowpark-ml/snowpark-ml-modeling)\n",
    "\n"
   ]
  },
  {
   "cell_type": "code",
   "execution_count": null,
   "metadata": {},
   "outputs": [],
   "source": [
    "from snowflake.ml.modeling.preprocessing import MinMaxScaler"
   ]
  },
  {
   "cell_type": "code",
   "execution_count": null,
   "metadata": {},
   "outputs": [
    {
     "data": {
      "text/plain": [
       "---------------------------------------------------------------------------------------------------------------------------\n",
       "|\"CARAT_NORM\"          |\"CARAT\"  |\"COLOR\"  |\"CLARITY\"  |\"TABLE_PCT\"  |\"PRICE\"  |\"X\"   |\"Y\"   |\"Z\"   |\"CUT\"      |\"DEPTH\"  |\n",
       "---------------------------------------------------------------------------------------------------------------------------\n",
       "|0.006237006237006237  |0.23     |E        |SI2        |55.0         |326      |3.95  |3.98  |2.43  |IDEAL      |61.5     |\n",
       "|0.002079002079002079  |0.21     |E        |SI1        |61.0         |326      |3.89  |3.84  |2.31  |PREMIUM    |59.8     |\n",
       "|0.006237006237006237  |0.23     |E        |VS1        |65.0         |327      |4.05  |4.07  |2.31  |GOOD       |56.9     |\n",
       "|0.018711018711018705  |0.29     |I        |VS2        |58.0         |334      |4.20  |4.23  |2.63  |PREMIUM    |62.4     |\n",
       "|0.02286902286902287   |0.31     |J        |SI2        |58.0         |335      |4.34  |4.35  |2.75  |GOOD       |63.3     |\n",
       "|0.008316008316008316  |0.24     |J        |VVS2       |57.0         |336      |3.94  |3.96  |2.48  |VERY_GOOD  |62.8     |\n",
       "|0.008316008316008316  |0.24     |I        |VVS1       |57.0         |336      |3.95  |3.98  |2.47  |VERY_GOOD  |62.3     |\n",
       "|0.012474012474012475  |0.26     |H        |SI1        |55.0         |337      |4.07  |4.11  |2.53  |VERY_GOOD  |61.9     |\n",
       "|0.004158004158004158  |0.22     |E        |VS2        |61.0         |337      |3.87  |3.78  |2.49  |FAIR       |65.1     |\n",
       "|0.006237006237006237  |0.23     |H        |VS1        |61.0         |338      |4.00  |4.05  |2.39  |VERY_GOOD  |59.4     |\n",
       "---------------------------------------------------------------------------------------------------------------------------\n",
       "\n"
      ]
     },
     "execution_count": null,
     "metadata": {},
     "output_type": "execute_result"
    },
    {
     "data": {
      "text/plain": [
       "<snowflake.snowpark.dataframe.DataFrame at 0x7fcf494813a0>"
      ]
     },
     "execution_count": null,
     "metadata": {},
     "output_type": "execute_result"
    }
   ],
   "source": [
    "snowml_mms = MinMaxScaler(input_cols=[\"CARAT\"],output_cols=[\"CARAT_NORM\"])\n",
    "\n",
    "\n",
    "normalized_diamonds_df = snowml_mms.fit(diamonds_df).transform(diamonds_df)\n",
    "\n",
    "normalized_diamonds_df.show()\n",
    "normalized_diamonds_df.describe()"
   ]
  },
  {
   "cell_type": "code",
   "execution_count": null,
   "metadata": {},
   "outputs": [],
   "source": [
    "# Categorize all the features for processing\n",
    "CATEGORICAL_COLUMNS = [\"CUT\", \"COLOR\", \"CLARITY\"]\n",
    "CATEGORICAL_COLUMNS_OE = [\"CUT_OE\", \"COLOR_OE\", \"CLARITY_OE\"] # To name the ordinal encoded columns\n",
    "\n",
    "categories = {\n",
    "    \"CUT\": np.array([\"IDEAL\", \"PREMIUM\", \"VERY_GOOD\", \"GOOD\", \"FAIR\"]),\n",
    "    \"CLARITY\": np.array([\"IF\", \"VVS1\", \"VVS2\", \"VS1\", \"VS2\", \"SI1\", \"SI2\", \"I1\", \"I2\", \"I3\"]),\n",
    "    \"COLOR\": np.array(['D', 'E', 'F', 'G', 'H', 'I', 'J']),\n",
    "}"
   ]
  },
  {
   "cell_type": "code",
   "execution_count": null,
   "metadata": {},
   "outputs": [],
   "source": [
    "# Build the pipeline\n",
    "preprocessing_pipeline = Pipeline(\n",
    "    steps=[\n",
    "            (\n",
    "                \"OE\",\n",
    "                snowml.OrdinalEncoder(\n",
    "                    input_cols=CATEGORICAL_COLUMNS,\n",
    "                    output_cols=CATEGORICAL_COLUMNS_OE,\n",
    "                    categories=categories,\n",
    "                )\n",
    "            )\n",
    "    ]\n",
    ")\n",
    "\n",
    "PIPELINE_FILE = 'preprocessing_pipeline.joblib'\n",
    "\n",
    "# Lets create joblib file of the pipeline and save it locally\n"
   ]
  },
  {
   "cell_type": "code",
   "execution_count": null,
   "metadata": {},
   "outputs": [
    {
     "data": {
      "text/plain": [
       "['preprocessing_pipeline.joblib']"
      ]
     },
     "execution_count": null,
     "metadata": {},
     "output_type": "execute_result"
    }
   ],
   "source": [
    "joblib.dump(preprocessing_pipeline,PIPELINE_FILE)"
   ]
  },
  {
   "cell_type": "code",
   "execution_count": null,
   "metadata": {},
   "outputs": [
    {
     "data": {
      "text/plain": [
       "[PutResult(source='preprocessing_pipeline.joblib', target='preprocessing_pipeline.joblib.gz', source_size=1837, target_size=1024, source_compression='NONE', target_compression='GZIP', status='UPLOADED', message='')]"
      ]
     },
     "execution_count": null,
     "metadata": {},
     "output_type": "execute_result"
    }
   ],
   "source": [
    "# You can also save the pipeline joblibfile file into a Snowflake Internal Stage\n",
    "session.file.put(PIPELINE_FILE,\"MODEL_FILES\",overwrite = True)"
   ]
  },
  {
   "cell_type": "markdown",
   "metadata": {},
   "source": [
    "#### _a- Import Libraries_\n",
    "\n"
   ]
  },
  {
   "cell_type": "code",
   "execution_count": null,
   "metadata": {},
   "outputs": [],
   "source": [
    "# Snowpark ML\n",
    "from snowflake.ml.modeling.xgboost import XGBRegressor\n",
    "# For All Snowpark ML Modeling Classes visit https://docs.snowflake.com/en/developer-guide/snowpark-ml/snowpark-ml-modeling\n",
    "\n",
    "# joblib\n",
    "import joblib"
   ]
  },
  {
   "cell_type": "code",
   "execution_count": null,
   "metadata": {},
   "outputs": [
    {
     "data": {
      "text/plain": [
       "----------------------------------------------------------------------------------------------------\n",
       "|\"CARAT\"  |\"COLOR\"  |\"CLARITY\"  |\"TABLE_PCT\"  |\"PRICE\"  |\"X\"   |\"Y\"   |\"Z\"   |\"CUT\"      |\"DEPTH\"  |\n",
       "----------------------------------------------------------------------------------------------------\n",
       "|0.23     |E        |SI2        |55.0         |326      |3.95  |3.98  |2.43  |IDEAL      |61.5     |\n",
       "|0.21     |E        |SI1        |61.0         |326      |3.89  |3.84  |2.31  |PREMIUM    |59.8     |\n",
       "|0.23     |E        |VS1        |65.0         |327      |4.05  |4.07  |2.31  |GOOD       |56.9     |\n",
       "|0.29     |I        |VS2        |58.0         |334      |4.20  |4.23  |2.63  |PREMIUM    |62.4     |\n",
       "|0.31     |J        |SI2        |58.0         |335      |4.34  |4.35  |2.75  |GOOD       |63.3     |\n",
       "|0.24     |J        |VVS2       |57.0         |336      |3.94  |3.96  |2.48  |VERY_GOOD  |62.8     |\n",
       "|0.24     |I        |VVS1       |57.0         |336      |3.95  |3.98  |2.47  |VERY_GOOD  |62.3     |\n",
       "|0.26     |H        |SI1        |55.0         |337      |4.07  |4.11  |2.53  |VERY_GOOD  |61.9     |\n",
       "|0.22     |E        |VS2        |61.0         |337      |3.87  |3.78  |2.49  |FAIR       |65.1     |\n",
       "|0.23     |H        |VS1        |61.0         |338      |4.00  |4.05  |2.39  |VERY_GOOD  |59.4     |\n",
       "----------------------------------------------------------------------------------------------------\n",
       "\n"
      ]
     },
     "execution_count": null,
     "metadata": {},
     "output_type": "execute_result"
    }
   ],
   "source": [
    "# Load Diamonds Table from Snowflake\n",
    "#diamonds_df = session.table(input_tbl)\n",
    "diamonds_df.show()"
   ]
  },
  {
   "cell_type": "code",
   "execution_count": null,
   "metadata": {},
   "outputs": [
    {
     "data": {
      "text/html": [
       "<style>#sk-container-id-2 {color: black;background-color: white;}#sk-container-id-2 pre{padding: 0;}#sk-container-id-2 div.sk-toggleable {background-color: white;}#sk-container-id-2 label.sk-toggleable__label {cursor: pointer;display: block;width: 100%;margin-bottom: 0;padding: 0.3em;box-sizing: border-box;text-align: center;}#sk-container-id-2 label.sk-toggleable__label-arrow:before {content: \"▸\";float: left;margin-right: 0.25em;color: #696969;}#sk-container-id-2 label.sk-toggleable__label-arrow:hover:before {color: black;}#sk-container-id-2 div.sk-estimator:hover label.sk-toggleable__label-arrow:before {color: black;}#sk-container-id-2 div.sk-toggleable__content {max-height: 0;max-width: 0;overflow: hidden;text-align: left;background-color: #f0f8ff;}#sk-container-id-2 div.sk-toggleable__content pre {margin: 0.2em;color: black;border-radius: 0.25em;background-color: #f0f8ff;}#sk-container-id-2 input.sk-toggleable__control:checked~div.sk-toggleable__content {max-height: 200px;max-width: 100%;overflow: auto;}#sk-container-id-2 input.sk-toggleable__control:checked~label.sk-toggleable__label-arrow:before {content: \"▾\";}#sk-container-id-2 div.sk-estimator input.sk-toggleable__control:checked~label.sk-toggleable__label {background-color: #d4ebff;}#sk-container-id-2 div.sk-label input.sk-toggleable__control:checked~label.sk-toggleable__label {background-color: #d4ebff;}#sk-container-id-2 input.sk-hidden--visually {border: 0;clip: rect(1px 1px 1px 1px);clip: rect(1px, 1px, 1px, 1px);height: 1px;margin: -1px;overflow: hidden;padding: 0;position: absolute;width: 1px;}#sk-container-id-2 div.sk-estimator {font-family: monospace;background-color: #f0f8ff;border: 1px dotted black;border-radius: 0.25em;box-sizing: border-box;margin-bottom: 0.5em;}#sk-container-id-2 div.sk-estimator:hover {background-color: #d4ebff;}#sk-container-id-2 div.sk-parallel-item::after {content: \"\";width: 100%;border-bottom: 1px solid gray;flex-grow: 1;}#sk-container-id-2 div.sk-label:hover label.sk-toggleable__label {background-color: #d4ebff;}#sk-container-id-2 div.sk-serial::before {content: \"\";position: absolute;border-left: 1px solid gray;box-sizing: border-box;top: 0;bottom: 0;left: 50%;z-index: 0;}#sk-container-id-2 div.sk-serial {display: flex;flex-direction: column;align-items: center;background-color: white;padding-right: 0.2em;padding-left: 0.2em;position: relative;}#sk-container-id-2 div.sk-item {position: relative;z-index: 1;}#sk-container-id-2 div.sk-parallel {display: flex;align-items: stretch;justify-content: center;background-color: white;position: relative;}#sk-container-id-2 div.sk-item::before, #sk-container-id-2 div.sk-parallel-item::before {content: \"\";position: absolute;border-left: 1px solid gray;box-sizing: border-box;top: 0;bottom: 0;left: 50%;z-index: -1;}#sk-container-id-2 div.sk-parallel-item {display: flex;flex-direction: column;z-index: 1;position: relative;background-color: white;}#sk-container-id-2 div.sk-parallel-item:first-child::after {align-self: flex-end;width: 50%;}#sk-container-id-2 div.sk-parallel-item:last-child::after {align-self: flex-start;width: 50%;}#sk-container-id-2 div.sk-parallel-item:only-child::after {width: 0;}#sk-container-id-2 div.sk-dashed-wrapped {border: 1px dashed gray;margin: 0 0.4em 0.5em 0.4em;box-sizing: border-box;padding-bottom: 0.4em;background-color: white;}#sk-container-id-2 div.sk-label label {font-family: monospace;font-weight: bold;display: inline-block;line-height: 1.2em;}#sk-container-id-2 div.sk-label-container {text-align: center;}#sk-container-id-2 div.sk-container {/* jupyter's `normalize.less` sets `[hidden] { display: none; }` but bootstrap.min.css set `[hidden] { display: none !important; }` so we also need the `!important` here to be able to override the default hidden behavior on the sphinx rendered scikit-learn.org. See: https://github.com/scikit-learn/scikit-learn/issues/21755 */display: inline-block !important;position: relative;}#sk-container-id-2 div.sk-text-repr-fallback {display: none;}</style><div id=\"sk-container-id-2\" class=\"sk-top-container\"><div class=\"sk-text-repr-fallback\"><pre>Pipeline(steps=[(&#x27;OE&#x27;,\n",
       "                 ColumnTransformer(remainder=&#x27;passthrough&#x27;,\n",
       "                                   transformers=[(&#x27;OE&#x27;,\n",
       "                                                  OrdinalEncoder(categories={&#x27;CLARITY&#x27;: array([&#x27;IF&#x27;, &#x27;VVS1&#x27;, &#x27;VVS2&#x27;, &#x27;VS1&#x27;, &#x27;VS2&#x27;, &#x27;SI1&#x27;, &#x27;SI2&#x27;, &#x27;I1&#x27;, &#x27;I2&#x27;, &#x27;I3&#x27;],\n",
       "      dtype=&#x27;&lt;U4&#x27;),\n",
       "                                                                             &#x27;COLOR&#x27;: array([&#x27;D&#x27;, &#x27;E&#x27;, &#x27;F&#x27;, &#x27;G&#x27;, &#x27;H&#x27;, &#x27;I&#x27;, &#x27;J&#x27;], dtype=&#x27;&lt;U1&#x27;),\n",
       "                                                                             &#x27;CUT&#x27;: array([&#x27;IDEAL&#x27;, &#x27;PREMIUM&#x27;, &#x27;VERY_GOOD&#x27;, &#x27;GOOD&#x27;, &#x27;FAIR&#x27;], dtype=&#x27;&lt;U9&#x27;)}),\n",
       "                                                  [&#x27;CUT&#x27;, &#x27;COLOR&#x27;,\n",
       "                                                   &#x27;CLARITY&#x27;])]))])</pre><b>In a Jupyter environment, please rerun this cell to show the HTML representation or trust the notebook. <br />On GitHub, the HTML representation is unable to render, please try loading this page with nbviewer.org.</b></div><div class=\"sk-container\" hidden><div class=\"sk-item sk-dashed-wrapped\"><div class=\"sk-label-container\"><div class=\"sk-label sk-toggleable\"><input class=\"sk-toggleable__control sk-hidden--visually\" id=\"sk-estimator-id-7\" type=\"checkbox\" ><label for=\"sk-estimator-id-7\" class=\"sk-toggleable__label sk-toggleable__label-arrow\">Pipeline</label><div class=\"sk-toggleable__content\"><pre>Pipeline(steps=[(&#x27;OE&#x27;,\n",
       "                 ColumnTransformer(remainder=&#x27;passthrough&#x27;,\n",
       "                                   transformers=[(&#x27;OE&#x27;,\n",
       "                                                  OrdinalEncoder(categories={&#x27;CLARITY&#x27;: array([&#x27;IF&#x27;, &#x27;VVS1&#x27;, &#x27;VVS2&#x27;, &#x27;VS1&#x27;, &#x27;VS2&#x27;, &#x27;SI1&#x27;, &#x27;SI2&#x27;, &#x27;I1&#x27;, &#x27;I2&#x27;, &#x27;I3&#x27;],\n",
       "      dtype=&#x27;&lt;U4&#x27;),\n",
       "                                                                             &#x27;COLOR&#x27;: array([&#x27;D&#x27;, &#x27;E&#x27;, &#x27;F&#x27;, &#x27;G&#x27;, &#x27;H&#x27;, &#x27;I&#x27;, &#x27;J&#x27;], dtype=&#x27;&lt;U1&#x27;),\n",
       "                                                                             &#x27;CUT&#x27;: array([&#x27;IDEAL&#x27;, &#x27;PREMIUM&#x27;, &#x27;VERY_GOOD&#x27;, &#x27;GOOD&#x27;, &#x27;FAIR&#x27;], dtype=&#x27;&lt;U9&#x27;)}),\n",
       "                                                  [&#x27;CUT&#x27;, &#x27;COLOR&#x27;,\n",
       "                                                   &#x27;CLARITY&#x27;])]))])</pre></div></div></div><div class=\"sk-serial\"><div class=\"sk-item sk-dashed-wrapped\"><div class=\"sk-label-container\"><div class=\"sk-label sk-toggleable\"><input class=\"sk-toggleable__control sk-hidden--visually\" id=\"sk-estimator-id-8\" type=\"checkbox\" ><label for=\"sk-estimator-id-8\" class=\"sk-toggleable__label sk-toggleable__label-arrow\">OE: ColumnTransformer</label><div class=\"sk-toggleable__content\"><pre>ColumnTransformer(remainder=&#x27;passthrough&#x27;,\n",
       "                  transformers=[(&#x27;OE&#x27;,\n",
       "                                 OrdinalEncoder(categories={&#x27;CLARITY&#x27;: array([&#x27;IF&#x27;, &#x27;VVS1&#x27;, &#x27;VVS2&#x27;, &#x27;VS1&#x27;, &#x27;VS2&#x27;, &#x27;SI1&#x27;, &#x27;SI2&#x27;, &#x27;I1&#x27;, &#x27;I2&#x27;, &#x27;I3&#x27;],\n",
       "      dtype=&#x27;&lt;U4&#x27;),\n",
       "                                                            &#x27;COLOR&#x27;: array([&#x27;D&#x27;, &#x27;E&#x27;, &#x27;F&#x27;, &#x27;G&#x27;, &#x27;H&#x27;, &#x27;I&#x27;, &#x27;J&#x27;], dtype=&#x27;&lt;U1&#x27;),\n",
       "                                                            &#x27;CUT&#x27;: array([&#x27;IDEAL&#x27;, &#x27;PREMIUM&#x27;, &#x27;VERY_GOOD&#x27;, &#x27;GOOD&#x27;, &#x27;FAIR&#x27;], dtype=&#x27;&lt;U9&#x27;)}),\n",
       "                                 [&#x27;CUT&#x27;, &#x27;COLOR&#x27;, &#x27;CLARITY&#x27;])])</pre></div></div></div><div class=\"sk-parallel\"><div class=\"sk-parallel-item\"><div class=\"sk-item\"><div class=\"sk-label-container\"><div class=\"sk-label sk-toggleable\"><input class=\"sk-toggleable__control sk-hidden--visually\" id=\"sk-estimator-id-9\" type=\"checkbox\" ><label for=\"sk-estimator-id-9\" class=\"sk-toggleable__label sk-toggleable__label-arrow\">OE</label><div class=\"sk-toggleable__content\"><pre>[&#x27;CUT&#x27;, &#x27;COLOR&#x27;, &#x27;CLARITY&#x27;]</pre></div></div></div><div class=\"sk-serial\"><div class=\"sk-item\"><div class=\"sk-estimator sk-toggleable\"><input class=\"sk-toggleable__control sk-hidden--visually\" id=\"sk-estimator-id-10\" type=\"checkbox\" ><label for=\"sk-estimator-id-10\" class=\"sk-toggleable__label sk-toggleable__label-arrow\">OrdinalEncoder</label><div class=\"sk-toggleable__content\"><pre>OrdinalEncoder(categories={&#x27;CLARITY&#x27;: array([&#x27;IF&#x27;, &#x27;VVS1&#x27;, &#x27;VVS2&#x27;, &#x27;VS1&#x27;, &#x27;VS2&#x27;, &#x27;SI1&#x27;, &#x27;SI2&#x27;, &#x27;I1&#x27;, &#x27;I2&#x27;, &#x27;I3&#x27;],\n",
       "      dtype=&#x27;&lt;U4&#x27;),\n",
       "                           &#x27;COLOR&#x27;: array([&#x27;D&#x27;, &#x27;E&#x27;, &#x27;F&#x27;, &#x27;G&#x27;, &#x27;H&#x27;, &#x27;I&#x27;, &#x27;J&#x27;], dtype=&#x27;&lt;U1&#x27;),\n",
       "                           &#x27;CUT&#x27;: array([&#x27;IDEAL&#x27;, &#x27;PREMIUM&#x27;, &#x27;VERY_GOOD&#x27;, &#x27;GOOD&#x27;, &#x27;FAIR&#x27;], dtype=&#x27;&lt;U9&#x27;)})</pre></div></div></div></div></div></div><div class=\"sk-parallel-item\"><div class=\"sk-item\"><div class=\"sk-label-container\"><div class=\"sk-label sk-toggleable\"><input class=\"sk-toggleable__control sk-hidden--visually\" id=\"sk-estimator-id-11\" type=\"checkbox\" ><label for=\"sk-estimator-id-11\" class=\"sk-toggleable__label sk-toggleable__label-arrow\">remainder</label><div class=\"sk-toggleable__content\"><pre></pre></div></div></div><div class=\"sk-serial\"><div class=\"sk-item\"><div class=\"sk-estimator sk-toggleable\"><input class=\"sk-toggleable__control sk-hidden--visually\" id=\"sk-estimator-id-12\" type=\"checkbox\" ><label for=\"sk-estimator-id-12\" class=\"sk-toggleable__label sk-toggleable__label-arrow\">passthrough</label><div class=\"sk-toggleable__content\"><pre>passthrough</pre></div></div></div></div></div></div></div></div></div></div></div></div>"
      ]
     },
     "execution_count": null,
     "metadata": {},
     "output_type": "execute_result"
    }
   ],
   "source": [
    "# Load the preprocessing pipeline object\n",
    "#preprocessing_pipeline = joblib.load('preprocessing_pipeline.joblib')\n",
    "\n",
    "# Visualise the Pipeline \n",
    "preprocessing_pipeline.to_sklearn()"
   ]
  },
  {
   "cell_type": "code",
   "execution_count": null,
   "metadata": {},
   "outputs": [],
   "source": [
    "# Categorize all the features for modeling\n",
    "CATEGORICAL_COLUMNS = [\"CUT\", \"COLOR\", \"CLARITY\"]\n",
    "CATEGORICAL_COLUMNS_OE = [\"CUT_OE\", \"COLOR_OE\", \"CLARITY_OE\"] \n",
    "NUMERICAL_COLUMNS = [\"CARAT\", \"DEPTH\", \"TABLE_PCT\", \"X\", \"Y\", \"Z\"]\n",
    "\n",
    "LABEL_COLUMNS = ['PRICE']\n",
    "OUTPUT_COLUMNS = ['PREDICTED_PRICE']"
   ]
  },
  {
   "cell_type": "code",
   "execution_count": null,
   "metadata": {},
   "outputs": [],
   "source": [
    "# Split the data into train and test sets\n",
    "diamonds_train_df, diamonds_test_df = diamonds_df.random_split(weights=[0.9,0.1], seed = 0)\n",
    "\n",
    "# Run the train and test sets through the Pipeline object we defined earlier\n",
    "train_df = preprocessing_pipeline.fit(diamonds_train_df).transform(diamonds_train_df)\n",
    "test_df = preprocessing_pipeline.fit(diamonds_test_df).transform(diamonds_test_df)"
   ]
  },
  {
   "cell_type": "code",
   "execution_count": null,
   "metadata": {},
   "outputs": [],
   "source": [
    "# Define the XGBRegressor\n",
    "regressor = XGBRegressor(\n",
    "    input_cols=CATEGORICAL_COLUMNS_OE+NUMERICAL_COLUMNS,\n",
    "    label_cols=LABEL_COLUMNS,\n",
    "    output_cols=OUTPUT_COLUMNS\n",
    ")\n",
    "\n",
    "# Train\n",
    "regressor.fit(train_df)\n",
    "\n",
    "# Predict\n",
    "result = regressor.predict(test_df)"
   ]
  },
  {
   "cell_type": "code",
   "execution_count": null,
   "metadata": {},
   "outputs": [
    {
     "data": {
      "text/plain": [
       "--------------------------------\n",
       "|\"PRICE\"  |\"PREDICTED_PRICE\"   |\n",
       "--------------------------------\n",
       "|351      |347.8470764160156   |\n",
       "|353      |298.98370361328125  |\n",
       "|355      |384.3904113769531   |\n",
       "|357      |397.2026062011719   |\n",
       "|554      |569.7911376953125   |\n",
       "|554      |519.9287719726562   |\n",
       "|2757     |2751.294921875      |\n",
       "|2759     |2976.74169921875    |\n",
       "|2759     |2904.55029296875    |\n",
       "|2762     |2822.248779296875   |\n",
       "--------------------------------\n",
       "\n",
       "Acccuracy: 0.981374608979638\n"
      ]
     },
     "execution_count": null,
     "metadata": {},
     "output_type": "execute_result"
    }
   ],
   "source": [
    "from snowflake.ml.modeling.metrics import r2_score\n",
    "\n",
    "# Show Result\n",
    "result.select(\"PRICE\", \"PREDICTED_PRICE\").show()\n",
    "\n",
    "# Model Accuracy using R-2 Score\n",
    "print('Acccuracy:', r2_score(df=result,y_true_col_name=\"PRICE\",y_pred_col_name=\"PREDICTED_PRICE\"))"
   ]
  },
  {
   "cell_type": "code",
   "execution_count": null,
   "metadata": {},
   "outputs": [],
   "source": [
    "import altair\n",
    "chart_result = altair.Chart.from_json(\"\"\"\n",
    "{\n",
    "    \"width\": \"container\",\n",
    "    \"height\": \"container\",\n",
    "    \"$schema\": \"https://vega.github.io/schema/vega-lite/v5.json\",\n",
    "    \"layer\": [\n",
    "        {\n",
    "            \"description\": \"outer data layer\",\n",
    "            \"resolve\": {\n",
    "                \"scale\": {\n",
    "                    \"color\": \"independent\",\n",
    "                    \"y\": \"shared\"\n",
    "                }\n",
    "            },\n",
    "            \"layer\": [\n",
    "                {\n",
    "                    \"transform\": [],\n",
    "                    \"layer\": [\n",
    "                        {\n",
    "                            \"description\": \"scatter point mark layer\",\n",
    "                            \"mark\": {\n",
    "                                \"type\": \"point\",\n",
    "                                \"filled\": true,\n",
    "                                \"clip\": true,\n",
    "                                \"cursor\": \"crosshair\"\n",
    "                            },\n",
    "                            \"encoding\": {}\n",
    "                        }\n",
    "                    ],\n",
    "                    \"encoding\": {\n",
    "                        \"x\": {\n",
    "                            \"field\": \"PRICE\",\n",
    "                            \"type\": \"quantitative\",\n",
    "                            \"title\": \"PRICE\",\n",
    "                            \"scale\": {\n",
    "                                \"padding\": 8\n",
    "                            },\n",
    "                            \"axis\": {\n",
    "                                \"grid\": true,\n",
    "                                \"ticks\": true,\n",
    "                                \"labels\": true,\n",
    "                                \"labelFlush\": false,\n",
    "                                \"format\": {\n",
    "                                    \"format\": \"NUMBER\",\n",
    "                                    \"columnType\": \"NUMBER\",\n",
    "                                    \"numDecimalDigits\": -1,\n",
    "                                    \"currency\": \"$\",\n",
    "                                    \"nanFormat\": \"\"\n",
    "                                },\n",
    "                                \"formatType\": \"NUMBER_FORMATTER\"\n",
    "                            }\n",
    "                        },\n",
    "                        \"y\": {\n",
    "                            \"field\": \"PREDICTED_PRICE\",\n",
    "                            \"type\": \"quantitative\",\n",
    "                            \"title\": \"PREDICTED_PRICE\",\n",
    "                            \"scale\": {},\n",
    "                            \"axis\": {\n",
    "                                \"grid\": true,\n",
    "                                \"ticks\": true,\n",
    "                                \"labels\": true,\n",
    "                                \"labelFlush\": false,\n",
    "                                \"format\": {\n",
    "                                    \"format\": \"NUMBER\",\n",
    "                                    \"columnType\": \"NUMBER\",\n",
    "                                    \"numDecimalDigits\": -1,\n",
    "                                    \"currency\": \"$\",\n",
    "                                    \"nanFormat\": \"\"\n",
    "                                },\n",
    "                                \"formatType\": \"NUMBER_FORMATTER\"\n",
    "                            }\n",
    "                        },\n",
    "                        \"color\": {\n",
    "                            \"value\": \"#4C78A8\"\n",
    "                        },\n",
    "                        \"opacity\": {\n",
    "                            \"value\": 1\n",
    "                        }\n",
    "                    }\n",
    "                },\n",
    "                {\n",
    "                    \"description\": \"scatter tooltip point mark layer\",\n",
    "                    \"mark\": {\n",
    "                        \"type\": \"point\",\n",
    "                        \"filled\": true,\n",
    "                        \"clip\": true,\n",
    "                        \"cursor\": \"crosshair\"\n",
    "                    },\n",
    "                    \"encoding\": {\n",
    "                        \"x\": {\n",
    "                            \"field\": \"PRICE\",\n",
    "                            \"type\": \"quantitative\",\n",
    "                            \"title\": \"PRICE\",\n",
    "                            \"scale\": {\n",
    "                                \"padding\": 8\n",
    "                            },\n",
    "                            \"axis\": {\n",
    "                                \"grid\": true,\n",
    "                                \"ticks\": true,\n",
    "                                \"labels\": true,\n",
    "                                \"labelFlush\": false,\n",
    "                                \"format\": {\n",
    "                                    \"format\": \"NUMBER\",\n",
    "                                    \"columnType\": \"NUMBER\",\n",
    "                                    \"numDecimalDigits\": -1,\n",
    "                                    \"currency\": \"$\",\n",
    "                                    \"nanFormat\": \"\"\n",
    "                                },\n",
    "                                \"formatType\": \"NUMBER_FORMATTER\"\n",
    "                            }\n",
    "                        },\n",
    "                        \"y\": {\n",
    "                            \"field\": \"PREDICTED_PRICE\",\n",
    "                            \"type\": \"quantitative\",\n",
    "                            \"title\": \"PREDICTED_PRICE\",\n",
    "                            \"scale\": {},\n",
    "                            \"axis\": {\n",
    "                                \"grid\": true,\n",
    "                                \"ticks\": true,\n",
    "                                \"labels\": true,\n",
    "                                \"labelFlush\": false,\n",
    "                                \"format\": {\n",
    "                                    \"format\": \"NUMBER\",\n",
    "                                    \"columnType\": \"NUMBER\",\n",
    "                                    \"numDecimalDigits\": -1,\n",
    "                                    \"currency\": \"$\",\n",
    "                                    \"nanFormat\": \"\"\n",
    "                                },\n",
    "                                \"formatType\": \"NUMBER_FORMATTER\"\n",
    "                            }\n",
    "                        },\n",
    "                        \"color\": {\n",
    "                            \"value\": \"#4C78A8\"\n",
    "                        },\n",
    "                        \"tooltip\": [\n",
    "                            {\n",
    "                                \"field\": \"PRICE\",\n",
    "                                \"type\": \"quantitative\",\n",
    "                                \"formatType\": \"NUMBER_FORMATTER\",\n",
    "                                \"format\": {\n",
    "                                    \"format\": \"NUMBER\",\n",
    "                                    \"columnType\": \"NUMBER\",\n",
    "                                    \"numDecimalDigits\": -1,\n",
    "                                    \"currency\": \"$\",\n",
    "                                    \"nanFormat\": \"\"\n",
    "                                },\n",
    "                                \"title\": \"PRICE\"\n",
    "                            },\n",
    "                            {\n",
    "                                \"field\": \"PREDICTED_PRICE\",\n",
    "                                \"type\": \"quantitative\",\n",
    "                                \"formatType\": \"NUMBER_FORMATTER\",\n",
    "                                \"format\": {\n",
    "                                    \"format\": \"NUMBER\",\n",
    "                                    \"columnType\": \"NUMBER\",\n",
    "                                    \"numDecimalDigits\": -1,\n",
    "                                    \"currency\": \"$\",\n",
    "                                    \"nanFormat\": \"\"\n",
    "                                },\n",
    "                                \"title\": \"PREDICTED_PRICE\"\n",
    "                            }\n",
    "                        ],\n",
    "                        \"opacity\": {\n",
    "                            \"value\": 0,\n",
    "                            \"condition\": {\n",
    "                                \"param\": \"point_hover_a09c5c92-18b3-4242-82e0-4957a55f47cd\",\n",
    "                                \"value\": 1,\n",
    "                                \"empty\": false\n",
    "                            }\n",
    "                        },\n",
    "                        \"size\": {\n",
    "                            \"value\": 100\n",
    "                        }\n",
    "                    },\n",
    "                    \"params\": [\n",
    "                        {\n",
    "                            \"name\": \"point_hover_a09c5c92-18b3-4242-82e0-4957a55f47cd\",\n",
    "                            \"select\": {\n",
    "                                \"type\": \"point\",\n",
    "                                \"on\": \"mouseover\",\n",
    "                                \"nearest\": false\n",
    "                            }\n",
    "                        }\n",
    "                    ]\n",
    "                }\n",
    "            ],\n",
    "            \"transform\": [\n",
    "                {\n",
    "                    \"filter\": \"isValid(datum[\\\"PRICE\\\"])\"\n",
    "                }\n",
    "            ]\n",
    "        }\n",
    "    ],\n",
    "    \"config\": {\n",
    "        \"legend\": {\n",
    "            \"orient\": \"right\"\n",
    "        },\n",
    "        \"font\": \"\\\"IBM Plex Sans\\\", system-ui, -apple-system, BlinkMacSystemFont, sans-serif\",\n",
    "        \"view\": {}\n",
    "    },\n",
    "    \"datasets\": {\n",
    "        \"layer00\": [\n",
    "            {\n",
    "                \"name\": \"dummy\",\n",
    "                \"value\": 0\n",
    "            }\n",
    "        ]\n",
    "    },\n",
    "    \"usermeta\": {\n",
    "        \"selectionConfigs\": {},\n",
    "        \"columnNameMappings\": {}\n",
    "    }\n",
    "}\n",
    "\"\"\")\n",
    "chart_result.datasets.layer00 = result.to_json(orient='records')\n",
    "chart_result.display(actions=False)"
   ]
  },
  {
   "cell_type": "code",
   "execution_count": null,
   "metadata": {},
   "outputs": [],
   "source": [
    "# Import LinearRegression \n",
    "from snowflake.ml.modeling.linear_model import LinearRegression"
   ]
  },
  {
   "cell_type": "code",
   "execution_count": null,
   "metadata": {},
   "outputs": [
    {
     "data": {
      "text/html": [
       "<style type='text/css'>\n",
       ".datatable table.frame { margin-bottom: 0; }\n",
       ".datatable table.frame thead { border-bottom: none; }\n",
       ".datatable table.frame tr.coltypes td {  color: #FFFFFF;  line-height: 6px;  padding: 0 0.5em;}\n",
       ".datatable .bool    { background: #DDDD99; }\n",
       ".datatable .object  { background: #565656; }\n",
       ".datatable .int     { background: #5D9E5D; }\n",
       ".datatable .float   { background: #4040CC; }\n",
       ".datatable .str     { background: #CC4040; }\n",
       ".datatable .time    { background: #40CC40; }\n",
       ".datatable .row_index {  background: var(--jp-border-color3);  border-right: 1px solid var(--jp-border-color0);  color: var(--jp-ui-font-color3);  font-size: 9px;}\n",
       ".datatable .frame tbody td { text-align: left; }\n",
       ".datatable .frame tr.coltypes .row_index {  background: var(--jp-border-color0);}\n",
       ".datatable th:nth-child(2) { padding-left: 12px; }\n",
       ".datatable .hellipsis {  color: var(--jp-cell-editor-border-color);}\n",
       ".datatable .vellipsis {  background: var(--jp-layout-color0);  color: var(--jp-cell-editor-border-color);}\n",
       ".datatable .na {  color: var(--jp-cell-editor-border-color);  font-size: 80%;}\n",
       ".datatable .sp {  opacity: 0.25;}\n",
       ".datatable .footer { font-size: 9px; }\n",
       ".datatable .frame_dimensions {  background: var(--jp-border-color3);  border-top: 1px solid var(--jp-border-color0);  color: var(--jp-ui-font-color3);  display: inline-block;  opacity: 0.6;  padding: 1px 10px 1px 5px;}\n",
       "</style>\n"
      ]
     },
     "execution_count": null,
     "metadata": {},
     "output_type": "execute_result"
    },
    {
     "data": {
      "text/plain": [
       "<snowflake.snowpark.dataframe.DataFrame at 0x7fcf20dcb7f0>"
      ]
     },
     "execution_count": null,
     "metadata": {},
     "output_type": "execute_result"
    }
   ],
   "source": [
    "# Define the LinearRegression\n",
    "linear_regressor = LinearRegression(\n",
    "    input_cols=CATEGORICAL_COLUMNS_OE+NUMERICAL_COLUMNS,\n",
    "    label_cols=LABEL_COLUMNS,\n",
    "    output_cols=OUTPUT_COLUMNS\n",
    "    \n",
    ")\n",
    "\n",
    "\n",
    "# Train\n",
    "linear_regressor.fit(train_df)\n",
    "\n",
    "\n",
    "# Predict\n",
    "linear_regressor.predict(test_df)"
   ]
  },
  {
   "cell_type": "code",
   "execution_count": null,
   "metadata": {},
   "outputs": [
    {
     "data": {
      "text/plain": [
       "--------------------------------\n",
       "|\"PRICE\"  |\"PREDICTED_PRICE\"   |\n",
       "--------------------------------\n",
       "|351      |347.8470764160156   |\n",
       "|353      |298.98370361328125  |\n",
       "|355      |384.3904113769531   |\n",
       "|357      |397.2026062011719   |\n",
       "|554      |569.7911376953125   |\n",
       "|554      |519.9287719726562   |\n",
       "|2757     |2751.294921875      |\n",
       "|2759     |2976.74169921875    |\n",
       "|2759     |2904.55029296875    |\n",
       "|2762     |2822.248779296875   |\n",
       "--------------------------------\n",
       "\n",
       "Acccuracy: 0.981374608979638\n"
      ]
     },
     "execution_count": null,
     "metadata": {},
     "output_type": "execute_result"
    }
   ],
   "source": [
    "# Show Result   \n",
    "\n",
    "result.select(\"PRICE\", \"PREDICTED_PRICE\").show()\n",
    "\n",
    "print('Acccuracy:', r2_score(df=result,y_true_col_name=\"PRICE\",y_pred_col_name=\"PREDICTED_PRICE\"))\n"
   ]
  },
  {
   "cell_type": "code",
   "execution_count": null,
   "metadata": {},
   "outputs": [],
   "source": [
    "#Import Libraries\n",
    "from snowflake.ml.modeling.model_selection import GridSearchCV\n"
   ]
  },
  {
   "cell_type": "code",
   "execution_count": null,
   "metadata": {},
   "outputs": [
    {
     "data": {
      "text/plain": [
       "<snowflake.ml.modeling.model_selection.grid_search_cv.GridSearchCV at 0x7fcf2036bbb0>"
      ]
     },
     "execution_count": null,
     "metadata": {},
     "output_type": "execute_result"
    }
   ],
   "source": [
    "\n",
    "\n",
    "grid_search = GridSearchCV(\n",
    "    estimator=regressor, # same XGBOOST model which we trained earlier\n",
    "    param_grid={\n",
    "        \"n_estimators\":[100,200,300, 400, 500], # Number of boosting rounds\n",
    "        \"learning_rate\":[0.1,0.2,0.3, 0.4, 0.5], # Step size shrinkage to prevent overfitting\n",
    "    },\n",
    "    n_jobs = -1, #Number of jobs to run in parallel. -1 means using all processors.\n",
    "    scoring=\"r2\",\n",
    "    cv=5, # 5-fold cross-validation\n",
    "    input_cols=CATEGORICAL_COLUMNS_OE+NUMERICAL_COLUMNS,\n",
    "    label_cols=LABEL_COLUMNS,\n",
    "    output_cols=OUTPUT_COLUMNS\n",
    ")\n",
    "\n",
    "# Train hypertuned model \n",
    "grid_search.fit(train_df)\n"
   ]
  },
  {
   "cell_type": "code",
   "execution_count": null,
   "metadata": {},
   "outputs": [
    {
     "data": {
      "text/plain": [
       "{'learning_rate': 0.2, 'n_estimators': 500}"
      ]
     },
     "execution_count": null,
     "metadata": {},
     "output_type": "execute_result"
    }
   ],
   "source": [
    "# Best Estimator (model) Hyperparameters\n",
    "grid_search.to_sklearn().best_params_"
   ]
  },
  {
   "cell_type": "code",
   "execution_count": null,
   "metadata": {},
   "outputs": [
    {
     "data": {
      "text/plain": [
       "Acccuracy of Hypertuned XGBOOST Model: 0.9814792891629546\n",
       "Acccuracy of Initial XGBOOST Model: 0.981374608979638\n"
      ]
     },
     "execution_count": null,
     "metadata": {},
     "output_type": "execute_result"
    }
   ],
   "source": [
    "# Predict Price using Test set using best estimator (model)\n",
    "result_optimal_model = grid_search.predict(test_df)\n",
    "\n",
    "# Analyze results using R-2 Score \n",
    "print('Acccuracy of Hypertuned XGBOOST Model:', r2_score(df=result_optimal_model,y_true_col_name=\"PRICE\",y_pred_col_name=\"PREDICTED_PRICE\"))\n",
    "print('Acccuracy of Initial XGBOOST Model:', r2_score(df=result,y_true_col_name=\"PRICE\",y_pred_col_name=\"PREDICTED_PRICE\"))"
   ]
  },
  {
   "cell_type": "code",
   "execution_count": null,
   "metadata": {},
   "outputs": [],
   "source": [
    "#import libraries \n",
    "import joblib\n",
    "from snowflake.ml.modeling.pipeline import Pipeline\n",
    "from snowflake.ml.modeling.preprocessing import OrdinalEncoder\n",
    "from snowflake.ml.modeling.xgboost import XGBRegressor\n",
    "from snowflake.snowpark import types as T\n",
    "import snowflake.snowpark.functions as F\n",
    "import cachetools\n",
    "import pandas as pd"
   ]
  },
  {
   "cell_type": "code",
   "execution_count": null,
   "metadata": {},
   "outputs": [],
   "source": [
    "# Categorize all the features for modeling\n",
    "CATEGORICAL_COLUMNS = [\"CUT\", \"COLOR\", \"CLARITY\"]\n",
    "CATEGORICAL_COLUMNS_OE = [\"CUT_OE\", \"COLOR_OE\", \"CLARITY_OE\"]\n",
    "NUMERICAL_COLUMNS = [\"CARAT\", \"DEPTH\", \"TABLE_PCT\", \"X\", \"Y\", \"Z\"]\n",
    "\n",
    "categories = {\n",
    "    \"CUT\": np.array([\"IDEAL\", \"PREMIUM\", \"VERY_GOOD\", \"GOOD\", \"FAIR\"]),\n",
    "    \"CLARITY\": np.array([\"IF\", \"VVS1\", \"VVS2\", \"VS1\", \"VS2\", \"SI1\", \"SI2\", \"I1\", \"I2\", \"I3\"]),\n",
    "    \"COLOR\": np.array(['D', 'E', 'F', 'G', 'H', 'I', 'J']),\n",
    "}\n",
    "\n",
    "# Define the end to end pipeline that contains Transforms (preprocessing) and Estimator (optimal XGBRegressor model)\n",
    "pipe = Pipeline(\n",
    "    steps=[\n",
    "        (\"OE\", OrdinalEncoder(\n",
    "            input_cols= CATEGORICAL_COLUMNS,  \n",
    "            output_cols= CATEGORICAL_COLUMNS_OE, \n",
    "            categories = categories,  \n",
    "            drop_input_cols=True)\n",
    "            ),\n",
    "        (\"regressor\", XGBRegressor(\n",
    "            learning_rate = 0.2, # Add Best best_params_ Results here \n",
    "            n_estimators = 500,  # Add Best best_params_ Results here \n",
    "            input_cols=CATEGORICAL_COLUMNS_OE + NUMERICAL_COLUMNS, \n",
    "            label_cols=[\"PRICE\"], \n",
    "            output_cols=['PREDICTED_PRICE'], \n",
    "            n_jobs=-1)\n",
    "            )\n",
    "    ]\n",
    ")\n",
    "\n",
    "# Random split\n",
    "diamonds_train_df, diamonds_test_df = diamonds_df.random_split(weights=[0.9,0.1], seed =0)\n",
    "\n",
    "# Train the model and convert it to sklearn pipeline\n",
    "xgb_optimal_model = pipe.fit(diamonds_train_df).to_sklearn()"
   ]
  },
  {
   "cell_type": "code",
   "execution_count": null,
   "metadata": {},
   "outputs": [
    {
     "data": {
      "text/html": [
       "<style>#sk-container-id-3 {color: black;background-color: white;}#sk-container-id-3 pre{padding: 0;}#sk-container-id-3 div.sk-toggleable {background-color: white;}#sk-container-id-3 label.sk-toggleable__label {cursor: pointer;display: block;width: 100%;margin-bottom: 0;padding: 0.3em;box-sizing: border-box;text-align: center;}#sk-container-id-3 label.sk-toggleable__label-arrow:before {content: \"▸\";float: left;margin-right: 0.25em;color: #696969;}#sk-container-id-3 label.sk-toggleable__label-arrow:hover:before {color: black;}#sk-container-id-3 div.sk-estimator:hover label.sk-toggleable__label-arrow:before {color: black;}#sk-container-id-3 div.sk-toggleable__content {max-height: 0;max-width: 0;overflow: hidden;text-align: left;background-color: #f0f8ff;}#sk-container-id-3 div.sk-toggleable__content pre {margin: 0.2em;color: black;border-radius: 0.25em;background-color: #f0f8ff;}#sk-container-id-3 input.sk-toggleable__control:checked~div.sk-toggleable__content {max-height: 200px;max-width: 100%;overflow: auto;}#sk-container-id-3 input.sk-toggleable__control:checked~label.sk-toggleable__label-arrow:before {content: \"▾\";}#sk-container-id-3 div.sk-estimator input.sk-toggleable__control:checked~label.sk-toggleable__label {background-color: #d4ebff;}#sk-container-id-3 div.sk-label input.sk-toggleable__control:checked~label.sk-toggleable__label {background-color: #d4ebff;}#sk-container-id-3 input.sk-hidden--visually {border: 0;clip: rect(1px 1px 1px 1px);clip: rect(1px, 1px, 1px, 1px);height: 1px;margin: -1px;overflow: hidden;padding: 0;position: absolute;width: 1px;}#sk-container-id-3 div.sk-estimator {font-family: monospace;background-color: #f0f8ff;border: 1px dotted black;border-radius: 0.25em;box-sizing: border-box;margin-bottom: 0.5em;}#sk-container-id-3 div.sk-estimator:hover {background-color: #d4ebff;}#sk-container-id-3 div.sk-parallel-item::after {content: \"\";width: 100%;border-bottom: 1px solid gray;flex-grow: 1;}#sk-container-id-3 div.sk-label:hover label.sk-toggleable__label {background-color: #d4ebff;}#sk-container-id-3 div.sk-serial::before {content: \"\";position: absolute;border-left: 1px solid gray;box-sizing: border-box;top: 0;bottom: 0;left: 50%;z-index: 0;}#sk-container-id-3 div.sk-serial {display: flex;flex-direction: column;align-items: center;background-color: white;padding-right: 0.2em;padding-left: 0.2em;position: relative;}#sk-container-id-3 div.sk-item {position: relative;z-index: 1;}#sk-container-id-3 div.sk-parallel {display: flex;align-items: stretch;justify-content: center;background-color: white;position: relative;}#sk-container-id-3 div.sk-item::before, #sk-container-id-3 div.sk-parallel-item::before {content: \"\";position: absolute;border-left: 1px solid gray;box-sizing: border-box;top: 0;bottom: 0;left: 50%;z-index: -1;}#sk-container-id-3 div.sk-parallel-item {display: flex;flex-direction: column;z-index: 1;position: relative;background-color: white;}#sk-container-id-3 div.sk-parallel-item:first-child::after {align-self: flex-end;width: 50%;}#sk-container-id-3 div.sk-parallel-item:last-child::after {align-self: flex-start;width: 50%;}#sk-container-id-3 div.sk-parallel-item:only-child::after {width: 0;}#sk-container-id-3 div.sk-dashed-wrapped {border: 1px dashed gray;margin: 0 0.4em 0.5em 0.4em;box-sizing: border-box;padding-bottom: 0.4em;background-color: white;}#sk-container-id-3 div.sk-label label {font-family: monospace;font-weight: bold;display: inline-block;line-height: 1.2em;}#sk-container-id-3 div.sk-label-container {text-align: center;}#sk-container-id-3 div.sk-container {/* jupyter's `normalize.less` sets `[hidden] { display: none; }` but bootstrap.min.css set `[hidden] { display: none !important; }` so we also need the `!important` here to be able to override the default hidden behavior on the sphinx rendered scikit-learn.org. See: https://github.com/scikit-learn/scikit-learn/issues/21755 */display: inline-block !important;position: relative;}#sk-container-id-3 div.sk-text-repr-fallback {display: none;}</style><div id=\"sk-container-id-3\" class=\"sk-top-container\"><div class=\"sk-text-repr-fallback\"><pre>Pipeline(steps=[(&#x27;OE&#x27;,\n",
       "                 ColumnTransformer(remainder=&#x27;passthrough&#x27;,\n",
       "                                   transformers=[(&#x27;OE&#x27;,\n",
       "                                                  OrdinalEncoder(categories={&#x27;CLARITY&#x27;: array([&#x27;IF&#x27;, &#x27;VVS1&#x27;, &#x27;VVS2&#x27;, &#x27;VS1&#x27;, &#x27;VS2&#x27;, &#x27;SI1&#x27;, &#x27;SI2&#x27;, &#x27;I1&#x27;, &#x27;I2&#x27;, &#x27;I3&#x27;],\n",
       "      dtype=&#x27;&lt;U4&#x27;),\n",
       "                                                                             &#x27;COLOR&#x27;: array([&#x27;D&#x27;, &#x27;E&#x27;, &#x27;F&#x27;, &#x27;G&#x27;, &#x27;H&#x27;, &#x27;I&#x27;, &#x27;J&#x27;], dtype=&#x27;&lt;U1&#x27;),\n",
       "                                                                             &#x27;CUT&#x27;: array([&#x27;IDEAL&#x27;, &#x27;PREMIUM&#x27;, &#x27;VERY_GOOD&#x27;, &#x27;GOOD&#x27;, &#x27;FAIR&#x27;], dtype=&#x27;&lt;U9&#x27;)}),\n",
       "                                                  [7, 1, 2])])),\n",
       "                (&#x27;filter...\n",
       "                              feature_types=None, gamma=None, gpu_id=None,\n",
       "                              grow_policy=None, importance_type=None,\n",
       "                              interaction_constraints=None, learning_rate=0.2,\n",
       "                              max_bin=None, max_cat_threshold=None,\n",
       "                              max_cat_to_onehot=None, max_delta_step=None,\n",
       "                              max_depth=None, max_leaves=None,\n",
       "                              min_child_weight=None, missing=nan,\n",
       "                              monotone_constraints=None, n_estimators=500,\n",
       "                              n_jobs=-1, num_parallel_tree=None, predictor=None,\n",
       "                              random_state=None, ...))])</pre><b>In a Jupyter environment, please rerun this cell to show the HTML representation or trust the notebook. <br />On GitHub, the HTML representation is unable to render, please try loading this page with nbviewer.org.</b></div><div class=\"sk-container\" hidden><div class=\"sk-item sk-dashed-wrapped\"><div class=\"sk-label-container\"><div class=\"sk-label sk-toggleable\"><input class=\"sk-toggleable__control sk-hidden--visually\" id=\"sk-estimator-id-13\" type=\"checkbox\" ><label for=\"sk-estimator-id-13\" class=\"sk-toggleable__label sk-toggleable__label-arrow\">Pipeline</label><div class=\"sk-toggleable__content\"><pre>Pipeline(steps=[(&#x27;OE&#x27;,\n",
       "                 ColumnTransformer(remainder=&#x27;passthrough&#x27;,\n",
       "                                   transformers=[(&#x27;OE&#x27;,\n",
       "                                                  OrdinalEncoder(categories={&#x27;CLARITY&#x27;: array([&#x27;IF&#x27;, &#x27;VVS1&#x27;, &#x27;VVS2&#x27;, &#x27;VS1&#x27;, &#x27;VS2&#x27;, &#x27;SI1&#x27;, &#x27;SI2&#x27;, &#x27;I1&#x27;, &#x27;I2&#x27;, &#x27;I3&#x27;],\n",
       "      dtype=&#x27;&lt;U4&#x27;),\n",
       "                                                                             &#x27;COLOR&#x27;: array([&#x27;D&#x27;, &#x27;E&#x27;, &#x27;F&#x27;, &#x27;G&#x27;, &#x27;H&#x27;, &#x27;I&#x27;, &#x27;J&#x27;], dtype=&#x27;&lt;U1&#x27;),\n",
       "                                                                             &#x27;CUT&#x27;: array([&#x27;IDEAL&#x27;, &#x27;PREMIUM&#x27;, &#x27;VERY_GOOD&#x27;, &#x27;GOOD&#x27;, &#x27;FAIR&#x27;], dtype=&#x27;&lt;U9&#x27;)}),\n",
       "                                                  [7, 1, 2])])),\n",
       "                (&#x27;filter...\n",
       "                              feature_types=None, gamma=None, gpu_id=None,\n",
       "                              grow_policy=None, importance_type=None,\n",
       "                              interaction_constraints=None, learning_rate=0.2,\n",
       "                              max_bin=None, max_cat_threshold=None,\n",
       "                              max_cat_to_onehot=None, max_delta_step=None,\n",
       "                              max_depth=None, max_leaves=None,\n",
       "                              min_child_weight=None, missing=nan,\n",
       "                              monotone_constraints=None, n_estimators=500,\n",
       "                              n_jobs=-1, num_parallel_tree=None, predictor=None,\n",
       "                              random_state=None, ...))])</pre></div></div></div><div class=\"sk-serial\"><div class=\"sk-item sk-dashed-wrapped\"><div class=\"sk-label-container\"><div class=\"sk-label sk-toggleable\"><input class=\"sk-toggleable__control sk-hidden--visually\" id=\"sk-estimator-id-14\" type=\"checkbox\" ><label for=\"sk-estimator-id-14\" class=\"sk-toggleable__label sk-toggleable__label-arrow\">OE: ColumnTransformer</label><div class=\"sk-toggleable__content\"><pre>ColumnTransformer(remainder=&#x27;passthrough&#x27;,\n",
       "                  transformers=[(&#x27;OE&#x27;,\n",
       "                                 OrdinalEncoder(categories={&#x27;CLARITY&#x27;: array([&#x27;IF&#x27;, &#x27;VVS1&#x27;, &#x27;VVS2&#x27;, &#x27;VS1&#x27;, &#x27;VS2&#x27;, &#x27;SI1&#x27;, &#x27;SI2&#x27;, &#x27;I1&#x27;, &#x27;I2&#x27;, &#x27;I3&#x27;],\n",
       "      dtype=&#x27;&lt;U4&#x27;),\n",
       "                                                            &#x27;COLOR&#x27;: array([&#x27;D&#x27;, &#x27;E&#x27;, &#x27;F&#x27;, &#x27;G&#x27;, &#x27;H&#x27;, &#x27;I&#x27;, &#x27;J&#x27;], dtype=&#x27;&lt;U1&#x27;),\n",
       "                                                            &#x27;CUT&#x27;: array([&#x27;IDEAL&#x27;, &#x27;PREMIUM&#x27;, &#x27;VERY_GOOD&#x27;, &#x27;GOOD&#x27;, &#x27;FAIR&#x27;], dtype=&#x27;&lt;U9&#x27;)}),\n",
       "                                 [7, 1, 2])])</pre></div></div></div><div class=\"sk-parallel\"><div class=\"sk-parallel-item\"><div class=\"sk-item\"><div class=\"sk-label-container\"><div class=\"sk-label sk-toggleable\"><input class=\"sk-toggleable__control sk-hidden--visually\" id=\"sk-estimator-id-15\" type=\"checkbox\" ><label for=\"sk-estimator-id-15\" class=\"sk-toggleable__label sk-toggleable__label-arrow\">OE</label><div class=\"sk-toggleable__content\"><pre>[7, 1, 2]</pre></div></div></div><div class=\"sk-serial\"><div class=\"sk-item\"><div class=\"sk-estimator sk-toggleable\"><input class=\"sk-toggleable__control sk-hidden--visually\" id=\"sk-estimator-id-16\" type=\"checkbox\" ><label for=\"sk-estimator-id-16\" class=\"sk-toggleable__label sk-toggleable__label-arrow\">OrdinalEncoder</label><div class=\"sk-toggleable__content\"><pre>OrdinalEncoder(categories={&#x27;CLARITY&#x27;: array([&#x27;IF&#x27;, &#x27;VVS1&#x27;, &#x27;VVS2&#x27;, &#x27;VS1&#x27;, &#x27;VS2&#x27;, &#x27;SI1&#x27;, &#x27;SI2&#x27;, &#x27;I1&#x27;, &#x27;I2&#x27;, &#x27;I3&#x27;],\n",
       "      dtype=&#x27;&lt;U4&#x27;),\n",
       "                           &#x27;COLOR&#x27;: array([&#x27;D&#x27;, &#x27;E&#x27;, &#x27;F&#x27;, &#x27;G&#x27;, &#x27;H&#x27;, &#x27;I&#x27;, &#x27;J&#x27;], dtype=&#x27;&lt;U1&#x27;),\n",
       "                           &#x27;CUT&#x27;: array([&#x27;IDEAL&#x27;, &#x27;PREMIUM&#x27;, &#x27;VERY_GOOD&#x27;, &#x27;GOOD&#x27;, &#x27;FAIR&#x27;], dtype=&#x27;&lt;U9&#x27;)})</pre></div></div></div></div></div></div><div class=\"sk-parallel-item\"><div class=\"sk-item\"><div class=\"sk-label-container\"><div class=\"sk-label sk-toggleable\"><input class=\"sk-toggleable__control sk-hidden--visually\" id=\"sk-estimator-id-17\" type=\"checkbox\" ><label for=\"sk-estimator-id-17\" class=\"sk-toggleable__label sk-toggleable__label-arrow\">remainder</label><div class=\"sk-toggleable__content\"><pre>[&#x27;CARAT&#x27;, &#x27;TABLE_PCT&#x27;, &#x27;X&#x27;, &#x27;Y&#x27;, &#x27;Z&#x27;, &#x27;DEPTH&#x27;]</pre></div></div></div><div class=\"sk-serial\"><div class=\"sk-item\"><div class=\"sk-estimator sk-toggleable\"><input class=\"sk-toggleable__control sk-hidden--visually\" id=\"sk-estimator-id-18\" type=\"checkbox\" ><label for=\"sk-estimator-id-18\" class=\"sk-toggleable__label sk-toggleable__label-arrow\">passthrough</label><div class=\"sk-toggleable__content\"><pre>passthrough</pre></div></div></div></div></div></div></div></div><div class=\"sk-item sk-dashed-wrapped\"><div class=\"sk-label-container\"><div class=\"sk-label sk-toggleable\"><input class=\"sk-toggleable__control sk-hidden--visually\" id=\"sk-estimator-id-19\" type=\"checkbox\" ><label for=\"sk-estimator-id-19\" class=\"sk-toggleable__label sk-toggleable__label-arrow\">filter_input_cols_for_estimator: ColumnTransformer</label><div class=\"sk-toggleable__content\"><pre>ColumnTransformer(remainder=&#x27;passthrough&#x27;,\n",
       "                  transformers=[(&#x27;filter_input_cols_for_estimator&#x27;,\n",
       "                                 &#x27;passthrough&#x27;, [0, 1, 2, 3, 8, 4, 5, 6, 7])])</pre></div></div></div><div class=\"sk-parallel\"><div class=\"sk-parallel-item\"><div class=\"sk-item\"><div class=\"sk-label-container\"><div class=\"sk-label sk-toggleable\"><input class=\"sk-toggleable__control sk-hidden--visually\" id=\"sk-estimator-id-20\" type=\"checkbox\" ><label for=\"sk-estimator-id-20\" class=\"sk-toggleable__label sk-toggleable__label-arrow\">filter_input_cols_for_estimator</label><div class=\"sk-toggleable__content\"><pre>[0, 1, 2, 3, 8, 4, 5, 6, 7]</pre></div></div></div><div class=\"sk-serial\"><div class=\"sk-item\"><div class=\"sk-estimator sk-toggleable\"><input class=\"sk-toggleable__control sk-hidden--visually\" id=\"sk-estimator-id-21\" type=\"checkbox\" ><label for=\"sk-estimator-id-21\" class=\"sk-toggleable__label sk-toggleable__label-arrow\">passthrough</label><div class=\"sk-toggleable__content\"><pre>passthrough</pre></div></div></div></div></div></div><div class=\"sk-parallel-item\"><div class=\"sk-item\"><div class=\"sk-label-container\"><div class=\"sk-label sk-toggleable\"><input class=\"sk-toggleable__control sk-hidden--visually\" id=\"sk-estimator-id-22\" type=\"checkbox\" ><label for=\"sk-estimator-id-22\" class=\"sk-toggleable__label sk-toggleable__label-arrow\">remainder</label><div class=\"sk-toggleable__content\"><pre>[]</pre></div></div></div><div class=\"sk-serial\"><div class=\"sk-item\"><div class=\"sk-estimator sk-toggleable\"><input class=\"sk-toggleable__control sk-hidden--visually\" id=\"sk-estimator-id-23\" type=\"checkbox\" ><label for=\"sk-estimator-id-23\" class=\"sk-toggleable__label sk-toggleable__label-arrow\">passthrough</label><div class=\"sk-toggleable__content\"><pre>passthrough</pre></div></div></div></div></div></div></div></div><div class=\"sk-item\"><div class=\"sk-estimator sk-toggleable\"><input class=\"sk-toggleable__control sk-hidden--visually\" id=\"sk-estimator-id-24\" type=\"checkbox\" ><label for=\"sk-estimator-id-24\" class=\"sk-toggleable__label sk-toggleable__label-arrow\">XGBRegressor</label><div class=\"sk-toggleable__content\"><pre>XGBRegressor(base_score=None, booster=None, callbacks=None,\n",
       "             colsample_bylevel=None, colsample_bynode=None,\n",
       "             colsample_bytree=None, early_stopping_rounds=None,\n",
       "             enable_categorical=False, eval_metric=None, feature_types=None,\n",
       "             gamma=None, gpu_id=None, grow_policy=None, importance_type=None,\n",
       "             interaction_constraints=None, learning_rate=0.2, max_bin=None,\n",
       "             max_cat_threshold=None, max_cat_to_onehot=None,\n",
       "             max_delta_step=None, max_depth=None, max_leaves=None,\n",
       "             min_child_weight=None, missing=nan, monotone_constraints=None,\n",
       "             n_estimators=500, n_jobs=-1, num_parallel_tree=None,\n",
       "             predictor=None, random_state=None, ...)</pre></div></div></div></div></div></div></div>"
      ]
     },
     "execution_count": null,
     "metadata": {},
     "output_type": "execute_result"
    }
   ],
   "source": [
    "from sklearn import set_config\n",
    "set_config(display=\"diagram\")\n",
    "xgb_optimal_model"
   ]
  },
  {
   "cell_type": "code",
   "execution_count": null,
   "metadata": {},
   "outputs": [
    {
     "data": {
      "text/plain": [
       "[PutResult(source='xgb_optimal_pipe.joblib', target='xgb_optimal_pipe.joblib', source_size=2093346, target_size=2093360, source_compression='NONE', target_compression='NONE', status='UPLOADED', message='')]"
      ]
     },
     "execution_count": null,
     "metadata": {},
     "output_type": "execute_result"
    }
   ],
   "source": [
    "\n",
    "MODEL_FILE = 'xgb_optimal_pipe.joblib'\n",
    "\n",
    "joblib.dump(xgb_optimal_model, MODEL_FILE)\n",
    "\n",
    "session.file.put(MODEL_FILE, \"@MODEL_FILES\", overwrite=True, auto_compress=False)"
   ]
  },
  {
   "cell_type": "code",
   "execution_count": null,
   "metadata": {},
   "outputs": [],
   "source": [
    "\n",
    "@cachetools.cached(cache={})\n",
    "def read_file(filename):\n",
    "    import joblib\n",
    "    import sys\n",
    "    import os\n",
    "\n",
    "    IMPORT_DIRECTORY_NAME = \"snowflake_import_directory\"\n",
    "    import_dir = sys._xoptions[IMPORT_DIRECTORY_NAME]\n",
    "\n",
    "    if import_dir:\n",
    "        with open(os.path.join(import_dir, filename), 'rb') as file:\n",
    "            m = joblib.load(file)\n",
    "            return m\n",
    "\n",
    "\n",
    "@F.udf(name=\"predict_diamond_price\",\n",
    "        is_permanent=True,\n",
    "        stage_location = '@MODEL_FILES',\n",
    "        imports=['@MODEL_FILES/xgb_optimal_pipe.joblib'],\n",
    "        packages=['snowflake-ml-python', 'joblib', 'scikit-learn==1.2.2', 'xgboost==1.7.3', 'cachetools'],\n",
    "        replace=True,\n",
    "        session=session)\n",
    "def predict_diamond_price(pd_input: T.PandasDataFrame[str, str, str, float, float, float, float, float, float]) -> T.PandasSeries[float]:\n",
    "    features = [\"CUT\", \"COLOR\", \"CLARITY\", \"CARAT\", \"DEPTH\", \"TABLE_PCT\", \"X\", \"Y\", \"Z\"]\n",
    "    pd_input.columns =  features\n",
    "    model = read_file(\"xgb_optimal_pipe.joblib\")            \n",
    "    prediction = model.predict(pd_input)       \n",
    "    return              "
   ]
  },
  {
   "cell_type": "code",
   "execution_count": null,
   "metadata": {},
   "outputs": [
    {
     "data": {
      "traceback": "\u001b[0;31m---------------------------------------------------------------------------\u001b[0m\n\u001b[0;31mSnowparkSQLException\u001b[0m                      Traceback (most recent call last)\n\u001b[0;32m/tmp/ipykernel_12/428902631.py\u001b[0m in \u001b[0;36m<cell line: 20>\u001b[0;34m()\u001b[0m\n\u001b[1;32m     18\u001b[0m \u001b[0;34m\u001b[0m\u001b[0m\n\u001b[1;32m     19\u001b[0m \u001b[0;31m# Show the result\u001b[0m\u001b[0;34m\u001b[0m\u001b[0;34m\u001b[0m\u001b[0m\n\u001b[0;32m---> 20\u001b[0;31m \u001b[0mnew_diamonds_w_prediction\u001b[0m\u001b[0;34m.\u001b[0m\u001b[0mshow\u001b[0m\u001b[0;34m(\u001b[0m\u001b[0;34m)\u001b[0m\u001b[0;34m\u001b[0m\u001b[0;34m\u001b[0m\u001b[0m\n\u001b[0m\n\u001b[0;32m~/.cache/pypoetry/virtualenvs/python-kernel-OtKFaj5M-py3.9/lib/python3.9/site-packages/snowflake/snowpark/_internal/telemetry.py\u001b[0m in \u001b[0;36mwrap\u001b[0;34m(*args, **kwargs)\u001b[0m\n\u001b[1;32m    143\u001b[0m     \u001b[0;32mdef\u001b[0m \u001b[0mwrap\u001b[0m\u001b[0;34m(\u001b[0m\u001b[0;34m*\u001b[0m\u001b[0margs\u001b[0m\u001b[0;34m,\u001b[0m \u001b[0;34m**\u001b[0m\u001b[0mkwargs\u001b[0m\u001b[0;34m)\u001b[0m\u001b[0;34m:\u001b[0m\u001b[0;34m\u001b[0m\u001b[0;34m\u001b[0m\u001b[0m\n\u001b[1;32m    144\u001b[0m         \u001b[0;32mwith\u001b[0m \u001b[0margs\u001b[0m\u001b[0;34m[\u001b[0m\u001b[0;36m0\u001b[0m\u001b[0;34m]\u001b[0m\u001b[0;34m.\u001b[0m\u001b[0m_session\u001b[0m\u001b[0;34m.\u001b[0m\u001b[0mquery_history\u001b[0m\u001b[0;34m(\u001b[0m\u001b[0;34m)\u001b[0m \u001b[0;32mas\u001b[0m \u001b[0mquery_history\u001b[0m\u001b[0;34m:\u001b[0m\u001b[0;34m\u001b[0m\u001b[0;34m\u001b[0m\u001b[0m\n\u001b[0;32m--> 145\u001b[0;31m             \u001b[0mresult\u001b[0m \u001b[0;34m=\u001b[0m \u001b[0mfunc\u001b[0m\u001b[0;34m(\u001b[0m\u001b[0;34m*\u001b[0m\u001b[0margs\u001b[0m\u001b[0;34m,\u001b[0m \u001b[0;34m**\u001b[0m\u001b[0mkwargs\u001b[0m\u001b[0;34m)\u001b[0m\u001b[0;34m\u001b[0m\u001b[0;34m\u001b[0m\u001b[0m\n\u001b[0m\u001b[1;32m    146\u001b[0m         \u001b[0mplan\u001b[0m \u001b[0;34m=\u001b[0m \u001b[0margs\u001b[0m\u001b[0;34m[\u001b[0m\u001b[0;36m0\u001b[0m\u001b[0;34m]\u001b[0m\u001b[0;34m.\u001b[0m\u001b[0m_select_statement\u001b[0m \u001b[0;32mor\u001b[0m \u001b[0margs\u001b[0m\u001b[0;34m[\u001b[0m\u001b[0;36m0\u001b[0m\u001b[0;34m]\u001b[0m\u001b[0;34m.\u001b[0m\u001b[0m_plan\u001b[0m\u001b[0;34m\u001b[0m\u001b[0;34m\u001b[0m\u001b[0m\n\u001b[1;32m    147\u001b[0m         api_calls = [\n\n\u001b[0;32m~/.cache/pypoetry/virtualenvs/python-kernel-OtKFaj5M-py3.9/lib/python3.9/site-packages/snowflake/snowpark/dataframe.py\u001b[0m in \u001b[0;36mshow\u001b[0;34m(self, n, max_width, statement_params)\u001b[0m\n\u001b[1;32m   3174\u001b[0m         \u001b[0;32mwith\u001b[0m \u001b[0mopen_telemetry_context_manager\u001b[0m\u001b[0;34m(\u001b[0m\u001b[0mself\u001b[0m\u001b[0;34m.\u001b[0m\u001b[0mshow\u001b[0m\u001b[0;34m,\u001b[0m \u001b[0mself\u001b[0m\u001b[0;34m)\u001b[0m\u001b[0;34m:\u001b[0m\u001b[0;34m\u001b[0m\u001b[0;34m\u001b[0m\u001b[0m\n\u001b[1;32m   3175\u001b[0m             print(  # noqa: T201: we need to print here.\n\u001b[0;32m-> 3176\u001b[0;31m                 self._show_string(\n\u001b[0m\u001b[1;32m   3177\u001b[0m                     \u001b[0mn\u001b[0m\u001b[0;34m,\u001b[0m\u001b[0;34m\u001b[0m\u001b[0;34m\u001b[0m\u001b[0m\n\u001b[1;32m   3178\u001b[0m                     \u001b[0mmax_width\u001b[0m\u001b[0;34m,\u001b[0m\u001b[0;34m\u001b[0m\u001b[0;34m\u001b[0m\u001b[0m\n\n\u001b[0;32m~/.cache/pypoetry/virtualenvs/python-kernel-OtKFaj5M-py3.9/lib/python3.9/site-packages/snowflake/snowpark/dataframe.py\u001b[0m in \u001b[0;36m_show_string\u001b[0;34m(self, n, max_width, **kwargs)\u001b[0m\n\u001b[1;32m   3292\u001b[0m \u001b[0;34m\u001b[0m\u001b[0m\n\u001b[1;32m   3293\u001b[0m         \u001b[0;32mif\u001b[0m \u001b[0mis_sql_select_statement\u001b[0m\u001b[0;34m(\u001b[0m\u001b[0mquery\u001b[0m\u001b[0;34m)\u001b[0m\u001b[0;34m:\u001b[0m\u001b[0;34m\u001b[0m\u001b[0;34m\u001b[0m\u001b[0m\n\u001b[0;32m-> 3294\u001b[0;31m             result, meta = self._session._conn.get_result_and_metadata(\n\u001b[0m\u001b[1;32m   3295\u001b[0m                 \u001b[0mself\u001b[0m\u001b[0;34m.\u001b[0m\u001b[0mlimit\u001b[0m\u001b[0;34m(\u001b[0m\u001b[0mn\u001b[0m\u001b[0;34m)\u001b[0m\u001b[0;34m.\u001b[0m\u001b[0m_plan\u001b[0m\u001b[0;34m,\u001b[0m \u001b[0;34m**\u001b[0m\u001b[0mkwargs\u001b[0m\u001b[0;34m\u001b[0m\u001b[0;34m\u001b[0m\u001b[0m\n\u001b[1;32m   3296\u001b[0m             )\n\n\u001b[0;32m~/.cache/pypoetry/virtualenvs/python-kernel-OtKFaj5M-py3.9/lib/python3.9/site-packages/snowflake/snowpark/_internal/server_connection.py\u001b[0m in \u001b[0;36mget_result_and_metadata\u001b[0;34m(self, plan, **kwargs)\u001b[0m\n\u001b[1;32m    656\u001b[0m         \u001b[0mself\u001b[0m\u001b[0;34m,\u001b[0m \u001b[0mplan\u001b[0m\u001b[0;34m:\u001b[0m \u001b[0mSnowflakePlan\u001b[0m\u001b[0;34m,\u001b[0m \u001b[0;34m**\u001b[0m\u001b[0mkwargs\u001b[0m\u001b[0;34m\u001b[0m\u001b[0;34m\u001b[0m\u001b[0m\n\u001b[1;32m    657\u001b[0m     ) -> Tuple[List[Row], List[Attribute]]:\n\u001b[0;32m--> 658\u001b[0;31m         \u001b[0mresult_set\u001b[0m\u001b[0;34m,\u001b[0m \u001b[0mresult_meta\u001b[0m \u001b[0;34m=\u001b[0m \u001b[0mself\u001b[0m\u001b[0;34m.\u001b[0m\u001b[0mget_result_set\u001b[0m\u001b[0;34m(\u001b[0m\u001b[0mplan\u001b[0m\u001b[0;34m,\u001b[0m \u001b[0;34m**\u001b[0m\u001b[0mkwargs\u001b[0m\u001b[0;34m)\u001b[0m\u001b[0;34m\u001b[0m\u001b[0;34m\u001b[0m\u001b[0m\n\u001b[0m\u001b[1;32m    659\u001b[0m         \u001b[0mresult\u001b[0m \u001b[0;34m=\u001b[0m \u001b[0mresult_set_to_rows\u001b[0m\u001b[0;34m(\u001b[0m\u001b[0mresult_set\u001b[0m\u001b[0;34m[\u001b[0m\u001b[0;34m\"data\"\u001b[0m\u001b[0;34m]\u001b[0m\u001b[0;34m)\u001b[0m\u001b[0;34m\u001b[0m\u001b[0;34m\u001b[0m\u001b[0m\n\u001b[1;32m    660\u001b[0m         \u001b[0mattributes\u001b[0m \u001b[0;34m=\u001b[0m \u001b[0mconvert_result_meta_to_attribute\u001b[0m\u001b[0;34m(\u001b[0m\u001b[0mresult_meta\u001b[0m\u001b[0;34m)\u001b[0m\u001b[0;34m\u001b[0m\u001b[0;34m\u001b[0m\u001b[0m\n\n\u001b[0;32m~/.cache/pypoetry/virtualenvs/python-kernel-OtKFaj5M-py3.9/lib/python3.9/site-packages/snowflake/snowpark/_internal/analyzer/snowflake_plan.py\u001b[0m in \u001b[0;36mwrap\u001b[0;34m(*args, **kwargs)\u001b[0m\n\u001b[1;32m    189\u001b[0m                             \u001b[0me\u001b[0m\u001b[0;34m\u001b[0m\u001b[0;34m\u001b[0m\u001b[0m\n\u001b[1;32m    190\u001b[0m                         )\n\u001b[0;32m--> 191\u001b[0;31m                         \u001b[0;32mraise\u001b[0m \u001b[0mne\u001b[0m\u001b[0;34m.\u001b[0m\u001b[0mwith_traceback\u001b[0m\u001b[0;34m(\u001b[0m\u001b[0mtb\u001b[0m\u001b[0;34m)\u001b[0m \u001b[0;32mfrom\u001b[0m \u001b[0;32mNone\u001b[0m\u001b[0;34m\u001b[0m\u001b[0;34m\u001b[0m\u001b[0m\n\u001b[0m\u001b[1;32m    192\u001b[0m \u001b[0;34m\u001b[0m\u001b[0m\n\u001b[1;32m    193\u001b[0m             \u001b[0;32mreturn\u001b[0m \u001b[0mwrap\u001b[0m\u001b[0;34m\u001b[0m\u001b[0;34m\u001b[0m\u001b[0m\n\n\u001b[0;32m~/.cache/pypoetry/virtualenvs/python-kernel-OtKFaj5M-py3.9/lib/python3.9/site-packages/snowflake/snowpark/_internal/analyzer/snowflake_plan.py\u001b[0m in \u001b[0;36mwrap\u001b[0;34m(*args, **kwargs)\u001b[0m\n\u001b[1;32m    120\u001b[0m             \u001b[0;32mdef\u001b[0m \u001b[0mwrap\u001b[0m\u001b[0;34m(\u001b[0m\u001b[0;34m*\u001b[0m\u001b[0margs\u001b[0m\u001b[0;34m,\u001b[0m \u001b[0;34m**\u001b[0m\u001b[0mkwargs\u001b[0m\u001b[0;34m)\u001b[0m\u001b[0;34m:\u001b[0m\u001b[0;34m\u001b[0m\u001b[0;34m\u001b[0m\u001b[0m\n\u001b[1;32m    121\u001b[0m                 \u001b[0;32mtry\u001b[0m\u001b[0;34m:\u001b[0m\u001b[0;34m\u001b[0m\u001b[0;34m\u001b[0m\u001b[0m\n\u001b[0;32m--> 122\u001b[0;31m                     \u001b[0;32mreturn\u001b[0m \u001b[0mfunc\u001b[0m\u001b[0;34m(\u001b[0m\u001b[0;34m*\u001b[0m\u001b[0margs\u001b[0m\u001b[0;34m,\u001b[0m \u001b[0;34m**\u001b[0m\u001b[0mkwargs\u001b[0m\u001b[0;34m)\u001b[0m\u001b[0;34m\u001b[0m\u001b[0;34m\u001b[0m\u001b[0m\n\u001b[0m\u001b[1;32m    123\u001b[0m                 \u001b[0;32mexcept\u001b[0m \u001b[0msnowflake\u001b[0m\u001b[0;34m.\u001b[0m\u001b[0mconnector\u001b[0m\u001b[0;34m.\u001b[0m\u001b[0merrors\u001b[0m\u001b[0;34m.\u001b[0m\u001b[0mProgrammingError\u001b[0m \u001b[0;32mas\u001b[0m \u001b[0me\u001b[0m\u001b[0;34m:\u001b[0m\u001b[0;34m\u001b[0m\u001b[0;34m\u001b[0m\u001b[0m\n\u001b[1;32m    124\u001b[0m                     \u001b[0mquery\u001b[0m \u001b[0;34m=\u001b[0m \u001b[0mgetattr\u001b[0m\u001b[0;34m(\u001b[0m\u001b[0me\u001b[0m\u001b[0;34m,\u001b[0m \u001b[0;34m\"query\"\u001b[0m\u001b[0;34m,\u001b[0m \u001b[0;32mNone\u001b[0m\u001b[0;34m)\u001b[0m\u001b[0;34m\u001b[0m\u001b[0;34m\u001b[0m\u001b[0m\n\n\u001b[0;32m~/.cache/pypoetry/virtualenvs/python-kernel-OtKFaj5M-py3.9/lib/python3.9/site-packages/snowflake/snowpark/_internal/server_connection.py\u001b[0m in \u001b[0;36mget_result_set\u001b[0;34m(self, plan, to_pandas, to_iter, block, data_type, log_on_exception, case_sensitive, ignore_results, **kwargs)\u001b[0m\n\u001b[1;32m    615\u001b[0m                         \u001b[0;32mfor\u001b[0m \u001b[0mholder\u001b[0m\u001b[0;34m,\u001b[0m \u001b[0mid_\u001b[0m \u001b[0;32min\u001b[0m \u001b[0mplaceholders\u001b[0m\u001b[0;34m.\u001b[0m\u001b[0mitems\u001b[0m\u001b[0;34m(\u001b[0m\u001b[0;34m)\u001b[0m\u001b[0;34m:\u001b[0m\u001b[0;34m\u001b[0m\u001b[0;34m\u001b[0m\u001b[0m\n\u001b[1;32m    616\u001b[0m                             \u001b[0mfinal_query\u001b[0m \u001b[0;34m=\u001b[0m \u001b[0mfinal_query\u001b[0m\u001b[0;34m.\u001b[0m\u001b[0mreplace\u001b[0m\u001b[0;34m(\u001b[0m\u001b[0mholder\u001b[0m\u001b[0;34m,\u001b[0m \u001b[0mid_\u001b[0m\u001b[0;34m)\u001b[0m\u001b[0;34m\u001b[0m\u001b[0;34m\u001b[0m\u001b[0m\n\u001b[0;32m--> 617\u001b[0;31m                         result = self.run_query(\n\u001b[0m\u001b[1;32m    618\u001b[0m                             \u001b[0mfinal_query\u001b[0m\u001b[0;34m,\u001b[0m\u001b[0;34m\u001b[0m\u001b[0;34m\u001b[0m\u001b[0m\n\u001b[1;32m    619\u001b[0m                             \u001b[0mto_pandas\u001b[0m\u001b[0;34m,\u001b[0m\u001b[0;34m\u001b[0m\u001b[0;34m\u001b[0m\u001b[0m\n\n\u001b[0;32m~/.cache/pypoetry/virtualenvs/python-kernel-OtKFaj5M-py3.9/lib/python3.9/site-packages/snowflake/snowpark/_internal/server_connection.py\u001b[0m in \u001b[0;36mwrap\u001b[0;34m(*args, **kwargs)\u001b[0m\n\u001b[1;32m    121\u001b[0m                     )\n\u001b[1;32m    122\u001b[0m                 \u001b[0;32mexcept\u001b[0m \u001b[0mException\u001b[0m \u001b[0;32mas\u001b[0m \u001b[0mex\u001b[0m\u001b[0;34m:\u001b[0m\u001b[0;34m\u001b[0m\u001b[0;34m\u001b[0m\u001b[0m\n\u001b[0;32m--> 123\u001b[0;31m                     \u001b[0;32mraise\u001b[0m \u001b[0mex\u001b[0m\u001b[0;34m\u001b[0m\u001b[0;34m\u001b[0m\u001b[0m\n\u001b[0m\u001b[1;32m    124\u001b[0m \u001b[0;34m\u001b[0m\u001b[0m\n\u001b[1;32m    125\u001b[0m             \u001b[0;32mreturn\u001b[0m \u001b[0mwrap\u001b[0m\u001b[0;34m\u001b[0m\u001b[0;34m\u001b[0m\u001b[0m\n\n\u001b[0;32m~/.cache/pypoetry/virtualenvs/python-kernel-OtKFaj5M-py3.9/lib/python3.9/site-packages/snowflake/snowpark/_internal/server_connection.py\u001b[0m in \u001b[0;36mwrap\u001b[0;34m(*args, **kwargs)\u001b[0m\n\u001b[1;32m    115\u001b[0m                     \u001b[0;32mraise\u001b[0m \u001b[0mSnowparkClientExceptionMessages\u001b[0m\u001b[0;34m.\u001b[0m\u001b[0mSERVER_SESSION_HAS_BEEN_CLOSED\u001b[0m\u001b[0;34m(\u001b[0m\u001b[0;34m)\u001b[0m\u001b[0;34m\u001b[0m\u001b[0;34m\u001b[0m\u001b[0m\n\u001b[1;32m    116\u001b[0m                 \u001b[0;32mtry\u001b[0m\u001b[0;34m:\u001b[0m\u001b[0;34m\u001b[0m\u001b[0;34m\u001b[0m\u001b[0m\n\u001b[0;32m--> 117\u001b[0;31m                     \u001b[0;32mreturn\u001b[0m \u001b[0mfunc\u001b[0m\u001b[0;34m(\u001b[0m\u001b[0;34m*\u001b[0m\u001b[0margs\u001b[0m\u001b[0;34m,\u001b[0m \u001b[0;34m**\u001b[0m\u001b[0mkwargs\u001b[0m\u001b[0;34m)\u001b[0m\u001b[0;34m\u001b[0m\u001b[0;34m\u001b[0m\u001b[0m\n\u001b[0m\u001b[1;32m    118\u001b[0m                 \u001b[0;32mexcept\u001b[0m \u001b[0mReauthenticationRequest\u001b[0m \u001b[0;32mas\u001b[0m \u001b[0mex\u001b[0m\u001b[0;34m:\u001b[0m\u001b[0;34m\u001b[0m\u001b[0;34m\u001b[0m\u001b[0m\n\u001b[1;32m    119\u001b[0m                     raise SnowparkClientExceptionMessages.SERVER_SESSION_EXPIRED(\n\n\u001b[0;32m~/.cache/pypoetry/virtualenvs/python-kernel-OtKFaj5M-py3.9/lib/python3.9/site-packages/snowflake/snowpark/_internal/server_connection.py\u001b[0m in \u001b[0;36mrun_query\u001b[0;34m(self, query, to_pandas, to_iter, is_ddl_on_temp_object, block, data_type, async_job_plan, log_on_exception, case_sensitive, params, num_statements, ignore_results, **kwargs)\u001b[0m\n\u001b[1;32m    416\u001b[0m                 \u001b[0mquery_id_log\u001b[0m \u001b[0;34m=\u001b[0m \u001b[0;34mf\" [queryID: {ex.sfqid}]\"\u001b[0m \u001b[0;32mif\u001b[0m \u001b[0mhasattr\u001b[0m\u001b[0;34m(\u001b[0m\u001b[0mex\u001b[0m\u001b[0;34m,\u001b[0m \u001b[0;34m\"sfqid\"\u001b[0m\u001b[0;34m)\u001b[0m \u001b[0;32melse\u001b[0m \u001b[0;34m\"\"\u001b[0m\u001b[0;34m\u001b[0m\u001b[0;34m\u001b[0m\u001b[0m\n\u001b[1;32m    417\u001b[0m                 \u001b[0mlogger\u001b[0m\u001b[0;34m.\u001b[0m\u001b[0merror\u001b[0m\u001b[0;34m(\u001b[0m\u001b[0;34mf\"Failed to execute query{query_id_log} {query}\\n{ex}\"\u001b[0m\u001b[0;34m)\u001b[0m\u001b[0;34m\u001b[0m\u001b[0;34m\u001b[0m\u001b[0m\n\u001b[0;32m--> 418\u001b[0;31m             \u001b[0;32mraise\u001b[0m \u001b[0mex\u001b[0m\u001b[0;34m\u001b[0m\u001b[0;34m\u001b[0m\u001b[0m\n\u001b[0m\u001b[1;32m    419\u001b[0m \u001b[0;34m\u001b[0m\u001b[0m\n\u001b[1;32m    420\u001b[0m         \u001b[0;31m# fetch_pandas_all/batches() only works for SELECT statements\u001b[0m\u001b[0;34m\u001b[0m\u001b[0;34m\u001b[0m\u001b[0m\n\n\u001b[0;32m~/.cache/pypoetry/virtualenvs/python-kernel-OtKFaj5M-py3.9/lib/python3.9/site-packages/snowflake/snowpark/_internal/server_connection.py\u001b[0m in \u001b[0;36mrun_query\u001b[0;34m(self, query, to_pandas, to_iter, is_ddl_on_temp_object, block, data_type, async_job_plan, log_on_exception, case_sensitive, params, num_statements, ignore_results, **kwargs)\u001b[0m\n\u001b[1;32m    401\u001b[0m                 \u001b[0mkwargs\u001b[0m\u001b[0;34m[\u001b[0m\u001b[0;34m\"_statement_params\"\u001b[0m\u001b[0;34m]\u001b[0m\u001b[0;34m[\u001b[0m\u001b[0;34m\"SNOWPARK_SKIP_TXN_COMMIT_IN_DDL\"\u001b[0m\u001b[0;34m]\u001b[0m \u001b[0;34m=\u001b[0m \u001b[0;32mTrue\u001b[0m\u001b[0;34m\u001b[0m\u001b[0;34m\u001b[0m\u001b[0m\n\u001b[1;32m    402\u001b[0m             \u001b[0;32mif\u001b[0m \u001b[0mblock\u001b[0m\u001b[0;34m:\u001b[0m\u001b[0;34m\u001b[0m\u001b[0;34m\u001b[0m\u001b[0m\n\u001b[0;32m--> 403\u001b[0;31m                 results_cursor = self.execute_and_notify_query_listener(\n\u001b[0m\u001b[1;32m    404\u001b[0m                     \u001b[0mquery\u001b[0m\u001b[0;34m,\u001b[0m \u001b[0mparams\u001b[0m\u001b[0;34m=\u001b[0m\u001b[0mparams\u001b[0m\u001b[0;34m,\u001b[0m \u001b[0;34m**\u001b[0m\u001b[0mkwargs\u001b[0m\u001b[0;34m\u001b[0m\u001b[0;34m\u001b[0m\u001b[0m\n\u001b[1;32m    405\u001b[0m                 )\n\n\u001b[0;32m~/.cache/pypoetry/virtualenvs/python-kernel-OtKFaj5M-py3.9/lib/python3.9/site-packages/snowflake/snowpark/_internal/server_connection.py\u001b[0m in \u001b[0;36mexecute_and_notify_query_listener\u001b[0;34m(self, query, **kwargs)\u001b[0m\n\u001b[1;32m    352\u001b[0m         \u001b[0mself\u001b[0m\u001b[0;34m,\u001b[0m \u001b[0mquery\u001b[0m\u001b[0;34m:\u001b[0m \u001b[0mstr\u001b[0m\u001b[0;34m,\u001b[0m \u001b[0;34m**\u001b[0m\u001b[0mkwargs\u001b[0m\u001b[0;34m:\u001b[0m \u001b[0mAny\u001b[0m\u001b[0;34m\u001b[0m\u001b[0;34m\u001b[0m\u001b[0m\n\u001b[1;32m    353\u001b[0m     ) -> SnowflakeCursor:\n\u001b[0;32m--> 354\u001b[0;31m         \u001b[0mresults_cursor\u001b[0m \u001b[0;34m=\u001b[0m \u001b[0mself\u001b[0m\u001b[0;34m.\u001b[0m\u001b[0m_cursor\u001b[0m\u001b[0;34m.\u001b[0m\u001b[0mexecute\u001b[0m\u001b[0;34m(\u001b[0m\u001b[0mquery\u001b[0m\u001b[0;34m,\u001b[0m \u001b[0;34m**\u001b[0m\u001b[0mkwargs\u001b[0m\u001b[0;34m)\u001b[0m\u001b[0;34m\u001b[0m\u001b[0;34m\u001b[0m\u001b[0m\n\u001b[0m\u001b[1;32m    355\u001b[0m         self.notify_query_listeners(\n\u001b[1;32m    356\u001b[0m             \u001b[0mQueryRecord\u001b[0m\u001b[0;34m(\u001b[0m\u001b[0mresults_cursor\u001b[0m\u001b[0;34m.\u001b[0m\u001b[0msfqid\u001b[0m\u001b[0;34m,\u001b[0m \u001b[0mresults_cursor\u001b[0m\u001b[0;34m.\u001b[0m\u001b[0mquery\u001b[0m\u001b[0;34m)\u001b[0m\u001b[0;34m\u001b[0m\u001b[0;34m\u001b[0m\u001b[0m\n\n\u001b[0;32m~/.cache/pypoetry/virtualenvs/python-kernel-OtKFaj5M-py3.9/lib/python3.9/site-packages/snowflake/connector/cursor.py\u001b[0m in \u001b[0;36mexecute\u001b[0;34m(self, command, params, _bind_stage, timeout, _exec_async, _no_retry, _do_reset, _put_callback, _put_azure_callback, _put_callback_output_stream, _get_callback, _get_azure_callback, _get_callback_output_stream, _show_progress_bar, _statement_params, _is_internal, _describe_only, _no_results, _is_put_get, _raise_put_get_error, _force_put_overwrite, _skip_upload_on_content_match, file_stream, num_statements)\u001b[0m\n\u001b[1;32m   1078\u001b[0m             )  # NULL result in a non-nullable column\n\u001b[1;32m   1079\u001b[0m             \u001b[0merror_class\u001b[0m \u001b[0;34m=\u001b[0m \u001b[0mIntegrityError\u001b[0m \u001b[0;32mif\u001b[0m \u001b[0mis_integrity_error\u001b[0m \u001b[0;32melse\u001b[0m \u001b[0mProgrammingError\u001b[0m\u001b[0;34m\u001b[0m\u001b[0;34m\u001b[0m\u001b[0m\n\u001b[0;32m-> 1080\u001b[0;31m             \u001b[0mError\u001b[0m\u001b[0;34m.\u001b[0m\u001b[0merrorhandler_wrapper\u001b[0m\u001b[0;34m(\u001b[0m\u001b[0mself\u001b[0m\u001b[0;34m.\u001b[0m\u001b[0mconnection\u001b[0m\u001b[0;34m,\u001b[0m \u001b[0mself\u001b[0m\u001b[0;34m,\u001b[0m \u001b[0merror_class\u001b[0m\u001b[0;34m,\u001b[0m \u001b[0merrvalue\u001b[0m\u001b[0;34m)\u001b[0m\u001b[0;34m\u001b[0m\u001b[0;34m\u001b[0m\u001b[0m\n\u001b[0m\u001b[1;32m   1081\u001b[0m         \u001b[0;32mreturn\u001b[0m \u001b[0mself\u001b[0m\u001b[0;34m\u001b[0m\u001b[0;34m\u001b[0m\u001b[0m\n\u001b[1;32m   1082\u001b[0m \u001b[0;34m\u001b[0m\u001b[0m\n\n\u001b[0;32m~/.cache/pypoetry/virtualenvs/python-kernel-OtKFaj5M-py3.9/lib/python3.9/site-packages/snowflake/connector/errors.py\u001b[0m in \u001b[0;36merrorhandler_wrapper\u001b[0;34m(connection, cursor, error_class, error_value)\u001b[0m\n\u001b[1;32m    288\u001b[0m         \"\"\"\n\u001b[1;32m    289\u001b[0m \u001b[0;34m\u001b[0m\u001b[0m\n\u001b[0;32m--> 290\u001b[0;31m         handed_over = Error.hand_to_other_handler(\n\u001b[0m\u001b[1;32m    291\u001b[0m             \u001b[0mconnection\u001b[0m\u001b[0;34m,\u001b[0m\u001b[0;34m\u001b[0m\u001b[0;34m\u001b[0m\u001b[0m\n\u001b[1;32m    292\u001b[0m             \u001b[0mcursor\u001b[0m\u001b[0;34m,\u001b[0m\u001b[0;34m\u001b[0m\u001b[0;34m\u001b[0m\u001b[0m\n\n\u001b[0;32m~/.cache/pypoetry/virtualenvs/python-kernel-OtKFaj5M-py3.9/lib/python3.9/site-packages/snowflake/connector/errors.py\u001b[0m in \u001b[0;36mhand_to_other_handler\u001b[0;34m(connection, cursor, error_class, error_value)\u001b[0m\n\u001b[1;32m    343\u001b[0m         \u001b[0;32mif\u001b[0m \u001b[0mcursor\u001b[0m \u001b[0;32mis\u001b[0m \u001b[0;32mnot\u001b[0m \u001b[0;32mNone\u001b[0m\u001b[0;34m:\u001b[0m\u001b[0;34m\u001b[0m\u001b[0;34m\u001b[0m\u001b[0m\n\u001b[1;32m    344\u001b[0m             \u001b[0mcursor\u001b[0m\u001b[0;34m.\u001b[0m\u001b[0mmessages\u001b[0m\u001b[0;34m.\u001b[0m\u001b[0mappend\u001b[0m\u001b[0;34m(\u001b[0m\u001b[0;34m(\u001b[0m\u001b[0merror_class\u001b[0m\u001b[0;34m,\u001b[0m \u001b[0merror_value\u001b[0m\u001b[0;34m)\u001b[0m\u001b[0;34m)\u001b[0m\u001b[0;34m\u001b[0m\u001b[0;34m\u001b[0m\u001b[0m\n\u001b[0;32m--> 345\u001b[0;31m             \u001b[0mcursor\u001b[0m\u001b[0;34m.\u001b[0m\u001b[0merrorhandler\u001b[0m\u001b[0;34m(\u001b[0m\u001b[0mconnection\u001b[0m\u001b[0;34m,\u001b[0m \u001b[0mcursor\u001b[0m\u001b[0;34m,\u001b[0m \u001b[0merror_class\u001b[0m\u001b[0;34m,\u001b[0m \u001b[0merror_value\u001b[0m\u001b[0;34m)\u001b[0m\u001b[0;34m\u001b[0m\u001b[0;34m\u001b[0m\u001b[0m\n\u001b[0m\u001b[1;32m    346\u001b[0m             \u001b[0;32mreturn\u001b[0m \u001b[0;32mTrue\u001b[0m\u001b[0;34m\u001b[0m\u001b[0;34m\u001b[0m\u001b[0m\n\u001b[1;32m    347\u001b[0m         \u001b[0;32melif\u001b[0m \u001b[0mconnection\u001b[0m \u001b[0;32mis\u001b[0m \u001b[0;32mnot\u001b[0m \u001b[0;32mNone\u001b[0m\u001b[0;34m:\u001b[0m\u001b[0;34m\u001b[0m\u001b[0;34m\u001b[0m\u001b[0m\n\n\u001b[0;32m~/.cache/pypoetry/virtualenvs/python-kernel-OtKFaj5M-py3.9/lib/python3.9/site-packages/snowflake/connector/errors.py\u001b[0m in \u001b[0;36mdefault_errorhandler\u001b[0;34m(connection, cursor, error_class, error_value)\u001b[0m\n\u001b[1;32m    219\u001b[0m         \u001b[0merrno\u001b[0m \u001b[0;34m=\u001b[0m \u001b[0merror_value\u001b[0m\u001b[0;34m.\u001b[0m\u001b[0mget\u001b[0m\u001b[0;34m(\u001b[0m\u001b[0;34m\"errno\"\u001b[0m\u001b[0;34m)\u001b[0m\u001b[0;34m\u001b[0m\u001b[0;34m\u001b[0m\u001b[0m\n\u001b[1;32m    220\u001b[0m         \u001b[0mdone_format_msg\u001b[0m \u001b[0;34m=\u001b[0m \u001b[0merror_value\u001b[0m\u001b[0;34m.\u001b[0m\u001b[0mget\u001b[0m\u001b[0;34m(\u001b[0m\u001b[0;34m\"done_format_msg\"\u001b[0m\u001b[0;34m)\u001b[0m\u001b[0;34m\u001b[0m\u001b[0;34m\u001b[0m\u001b[0m\n\u001b[0;32m--> 221\u001b[0;31m         raise error_class(\n\u001b[0m\u001b[1;32m    222\u001b[0m             \u001b[0mmsg\u001b[0m\u001b[0;34m=\u001b[0m\u001b[0merror_value\u001b[0m\u001b[0;34m.\u001b[0m\u001b[0mget\u001b[0m\u001b[0;34m(\u001b[0m\u001b[0;34m\"msg\"\u001b[0m\u001b[0;34m)\u001b[0m\u001b[0;34m,\u001b[0m\u001b[0;34m\u001b[0m\u001b[0;34m\u001b[0m\u001b[0m\n\u001b[1;32m    223\u001b[0m             \u001b[0merrno\u001b[0m\u001b[0;34m=\u001b[0m\u001b[0;32mNone\u001b[0m \u001b[0;32mif\u001b[0m \u001b[0merrno\u001b[0m \u001b[0;32mis\u001b[0m \u001b[0;32mNone\u001b[0m \u001b[0;32melse\u001b[0m \u001b[0mint\u001b[0m\u001b[0;34m(\u001b[0m\u001b[0merrno\u001b[0m\u001b[0;34m)\u001b[0m\u001b[0;34m,\u001b[0m\u001b[0;34m\u001b[0m\u001b[0;34m\u001b[0m\u001b[0m\n\n\u001b[0;31mSnowparkSQLException\u001b[0m: (1304): 01b5e077-3201-2741-0000-0009a1fe44c1: 100357 (P0000): 01b5e077-3201-2741-0000-0009a1fe44c1: Expected handler result to be a Pandas Series, but failed to get the count of elements: Python Interpreter Error:\nTypeError: object of type 'NoneType' has no len( in function PREDICT_DIAMOND_PRICE with handler compute"
     },
     "execution_count": null,
     "metadata": {},
     "output_type": "execute_result"
    }
   ],
   "source": [
    "\n",
    "new_diamonds =  session.table(\"DIAMONDS_NEW\")\n",
    "\n",
    "new_diamonds_w_prediction = new_diamonds.with_column(\"PREDICTED_PRICE\", F.call_function(\"predict_diamond_price\", \n",
    "                                    F.col(\"CUT\"), F.col(\"COLOR\"), F.col(\"CLARITY\"), \n",
    "                                    F.col(\"CARAT\"), F.col(\"DEPTH\"), F.col(\"TABLE_PCT\"), \n",
    "                                    F.col(\"X\"), F.col(\"Y\"), F.col(\"Z\"))\n",
    "                                    )\n",
    "\n",
    "new_diamonds_w_prediction.show()"
   ]
  }
 ],
 "metadata": {
  "hex_info": {
   "author": "Aditya Anand Pramod",
   "exported_date": "Sun Jul 28 2024 07:59:59 GMT+0000 (Coordinated Universal Time)",
   "project_id": "1f4e03b9-3e36-41f9-bd87-7c279ad7c462",
   "version": "import"
  },
  "kernelspec": {
   "display_name": "Python 3 (ipykernel)",
   "language": "python",
   "name": "python3"
  },
  "language_info": {
   "codemirror_mode": {
    "name": "ipython",
    "version": 3
   },
   "file_extension": ".py",
   "mimetype": "text/x-python",
   "name": "python",
   "nbconvert_exporter": "python",
   "pygments_lexer": "ipython3",
   "version": "3.9.13"
  }
 },
 "nbformat": 4,
 "nbformat_minor": 4
}
